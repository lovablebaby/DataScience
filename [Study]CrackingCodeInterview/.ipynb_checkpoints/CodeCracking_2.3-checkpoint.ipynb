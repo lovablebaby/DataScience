{
 "cells": [
  {
   "cell_type": "markdown",
   "metadata": {},
   "source": [
    "## Delete in the middle of a single linked-list"
   ]
  },
  {
   "cell_type": "code",
   "execution_count": 1,
   "metadata": {},
   "outputs": [
    {
     "name": "stdout",
     "output_type": "stream",
     "text": [
      "[9, 5, 8, 7]\n"
     ]
    }
   ],
   "source": [
    "__author__ = 'Minsuk Heo & Chris Jones'\n",
    "\"\"\"\n",
    "Linked List\n",
    "\"\"\"\n",
    "class Node:\n",
    "    def __init__(self, item):\n",
    "        self.val = item\n",
    "        self.next = None\n",
    "\n",
    "# Class to handle the linked list options\n",
    "class LinkedList:\n",
    "    def __init__(self, item):\n",
    "        self.head = Node(item)\n",
    "\n",
    "    # Adds a value to the linked list\n",
    "    def add(self, item):\n",
    "        cur = self.head\n",
    "        while cur.next is not None:\n",
    "            cur = cur.next\n",
    "        cur.next = Node(item)\n",
    "\n",
    "    # removes a value from teh linked list\n",
    "    def remove_item(self, item):\n",
    "        if self.head.val == item:\n",
    "            self.head = self.head.next\n",
    "        else:\n",
    "         cur = self.head\n",
    "         while cur.next is not None:\n",
    "            if cur.next.val == item:\n",
    "                next_node = cur.next.next\n",
    "                cur.next = next_node\n",
    "                break\n",
    "            cur = cur.next\n",
    "\n",
    "    def print_list(self):\n",
    "        cur = self.head\n",
    "        res = []\n",
    "        while cur is not None:\n",
    "            res.append(cur.val)\n",
    "            cur = cur.next\n",
    "        return str(res)\n",
    "\n",
    "\n",
    "ll = LinkedList(9)\n",
    "ll.add(5)\n",
    "ll.add(8)\n",
    "ll.add(7)\n",
    "ll.add(6)\n",
    "ll.remove_item(6)\n",
    "print(ll.print_list())"
   ]
  }
 ],
 "metadata": {
  "kernelspec": {
   "display_name": "Python [Root]",
   "language": "python",
   "name": "Python [Root]"
  },
  "language_info": {
   "codemirror_mode": {
    "name": "ipython",
    "version": 3
   },
   "file_extension": ".py",
   "mimetype": "text/x-python",
   "name": "python",
   "nbconvert_exporter": "python",
   "pygments_lexer": "ipython3",
   "version": "3.5.3"
  }
 },
 "nbformat": 4,
 "nbformat_minor": 2
}
