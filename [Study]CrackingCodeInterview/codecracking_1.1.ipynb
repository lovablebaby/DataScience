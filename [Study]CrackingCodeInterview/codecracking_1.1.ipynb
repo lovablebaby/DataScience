{
 "cells": [
  {
   "cell_type": "code",
   "execution_count": 1,
   "metadata": {},
   "outputs": [],
   "source": [
    "\"\"\"\n",
    "return true if the string doesn't have duplicate characters\n",
    "return false if the string has duplicate character by myself. \n",
    "\"\"\"\n",
    "\n",
    "import unittest\n",
    "\n",
    "def isUniqChars(str):\n",
    "    # assume characters are ASCII, total 256 characters\n",
    "    # if the string is greater than 256, there is duplicate\n",
    "    if len(str) > 256:\n",
    "        return False\n",
    "    # initialize boolean array\n",
    "    hash = [False] * 256\n",
    "\n",
    "    for ch in str:\n",
    "        # if boolean array is true, then there is duplicate\n",
    "        if hash[ord(ch)] is True:\n",
    "            return False\n",
    "        # if the value in hash is False, the value is not duplicate yet\n",
    "        else:\n",
    "            hash[ord(ch)] = True\n",
    "    return True\n",
    "\n",
    "\n",
    "class isUniqCharsTest(unittest.TestCase):\n",
    "    def test(self):\n",
    "        input_unique = \"abcde\"\n",
    "        input_not_unique = \"abcdea\"\n",
    "        self.assertTrue(isUniqChars(input_unique))\n",
    "        self.assertFalse(isUniqChars(input_not_unique))"
   ]
  },
  {
   "cell_type": "markdown",
   "metadata": {},
   "source": [
    "duplicated characters"
   ]
  },
  {
   "cell_type": "code",
   "execution_count": 2,
   "metadata": {
    "scrolled": true
   },
   "outputs": [
    {
     "name": "stdout",
     "output_type": "stream",
     "text": [
      "False\n"
     ]
    }
   ],
   "source": [
    "print(isUniqChars(\"abcdaa\"))"
   ]
  },
  {
   "cell_type": "markdown",
   "metadata": {},
   "source": [
    "unique characters"
   ]
  },
  {
   "cell_type": "code",
   "execution_count": 4,
   "metadata": {},
   "outputs": [
    {
     "name": "stdout",
     "output_type": "stream",
     "text": [
      "True\n"
     ]
    }
   ],
   "source": [
    "print(isUniqChars(\"abcdefg\"))"
   ]
  }
 ],
 "metadata": {
  "kernelspec": {
   "display_name": "Python [Root]",
   "language": "python",
   "name": "Python [Root]"
  },
  "language_info": {
   "codemirror_mode": {
    "name": "ipython",
    "version": 3
   },
   "file_extension": ".py",
   "mimetype": "text/x-python",
   "name": "python",
   "nbconvert_exporter": "python",
   "pygments_lexer": "ipython3",
   "version": "3.5.3"
  }
 },
 "nbformat": 4,
 "nbformat_minor": 2
}
