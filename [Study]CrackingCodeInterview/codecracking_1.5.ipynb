{
 "cells": [
  {
   "cell_type": "markdown",
   "metadata": {},
   "source": [
    "# wordpress+counting"
   ]
  },
  {
   "cell_type": "code",
   "execution_count": 2,
   "metadata": {
    "collapsed": true
   },
   "outputs": [],
   "source": [
    "import unittest\n",
    "\"\"\"\n",
    "abbcccccccd -> a1b2c7d1\n",
    "abc -> abc if the compression (a1b1c1) is longer than original, return original\n",
    "\"\"\"\n",
    "\n",
    "# make buffer, counting(cnt), output sector.\n",
    "\n",
    "def compressword(input):\n",
    "    buffer = None\n",
    "    output = \"\"\n",
    "    cnt = 1\n",
    "    for ch in input:\n",
    "        if buffer is None:\n",
    "            output += ch\n",
    "            buffer = ch\n",
    "        else:\n",
    "            if buffer == ch:\n",
    "                cnt += 1\n",
    "            else:\n",
    "                output += str(cnt)\n",
    "                cnt = 1\n",
    "                output += ch\n",
    "                buffer = ch\n",
    "    output += str(cnt)\n",
    "\n",
    "    if len(output) > len(input):\n",
    "        return input\n",
    "    else:\n",
    "        return output\n",
    "\n",
    "class compress_test(unittest.TestCase):\n",
    "    def test(self):\n",
    "        self.assertEqual(\"a1b2c7d1\",compressword(\"abbcccccccd\"))\n",
    "        self.assertEqual(\"a1b7c2d2\", compressword(\"abbbbbbbccdd\"))\n",
    "        self.assertEqual(\"abc\", compressword(\"abc\"))\n",
    "        self.assertEqual(\"aabcc\", compressword(\"aabcc\"))"
   ]
  },
  {
   "cell_type": "code",
   "execution_count": 5,
   "metadata": {},
   "outputs": [
    {
     "data": {
      "text/plain": [
       "'abcdeeeeffaaa'"
      ]
     },
     "execution_count": 5,
     "metadata": {},
     "output_type": "execute_result"
    }
   ],
   "source": [
    "compressword(\"abcdeeeeffaaa\")"
   ]
  },
  {
   "cell_type": "code",
   "execution_count": 6,
   "metadata": {},
   "outputs": [
    {
     "data": {
      "text/plain": [
       "'a1b1c1d1e7f2a3'"
      ]
     },
     "execution_count": 6,
     "metadata": {},
     "output_type": "execute_result"
    }
   ],
   "source": [
    "compressword(\"abcdeeeeeeeffaaa\")"
   ]
  }
 ],
 "metadata": {
  "kernelspec": {
   "display_name": "Python [Root]",
   "language": "python",
   "name": "Python [Root]"
  },
  "language_info": {
   "codemirror_mode": {
    "name": "ipython",
    "version": 3
   },
   "file_extension": ".py",
   "mimetype": "text/x-python",
   "name": "python",
   "nbconvert_exporter": "python",
   "pygments_lexer": "ipython3",
   "version": "3.5.3"
  }
 },
 "nbformat": 4,
 "nbformat_minor": 2
}
