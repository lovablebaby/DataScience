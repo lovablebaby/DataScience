{
 "cells": [
  {
   "cell_type": "markdown",
   "metadata": {},
   "source": [
    "# Anagram"
   ]
  },
  {
   "cell_type": "code",
   "execution_count": 1,
   "metadata": {
    "collapsed": true
   },
   "outputs": [],
   "source": [
    "import unittest\n",
    "\n",
    "\"\"\"\n",
    "anagram: true if listen and silent\n",
    "better ask if space is considered as string\n",
    "uppercase is different from lowercase\n",
    "\"\"\"\n",
    "\n",
    "# + remove the space(using strip method)\n",
    "\n",
    "def anagram(str1, str2):\n",
    "    if ''.join(sorted(str1.lower())).strip() == ''.join(sorted(str2.lower())).strip():\n",
    "        return True\n",
    "    else:\n",
    "        return False\n",
    "\n",
    "class anagramTest(unittest.TestCase):\n",
    "    def test(self):\n",
    "        self.assertTrue(anagram(\"listen\", \"silent\"))\n",
    "        self.assertFalse(anagram(\"abc\", \"def\"))"
   ]
  },
  {
   "cell_type": "code",
   "execution_count": 5,
   "metadata": {},
   "outputs": [
    {
     "data": {
      "text/plain": [
       "True"
      ]
     },
     "execution_count": 5,
     "metadata": {},
     "output_type": "execute_result"
    }
   ],
   "source": [
    "anagram(\"banana\", \"nabana\")"
   ]
  },
  {
   "cell_type": "code",
   "execution_count": 6,
   "metadata": {},
   "outputs": [
    {
     "data": {
      "text/plain": [
       "False"
      ]
     },
     "execution_count": 6,
     "metadata": {},
     "output_type": "execute_result"
    }
   ],
   "source": [
    "anagram(\"babo\", \"stupid\")"
   ]
  }
 ],
 "metadata": {
  "kernelspec": {
   "display_name": "Python [Root]",
   "language": "python",
   "name": "Python [Root]"
  },
  "language_info": {
   "codemirror_mode": {
    "name": "ipython",
    "version": 3
   },
   "file_extension": ".py",
   "mimetype": "text/x-python",
   "name": "python",
   "nbconvert_exporter": "python",
   "pygments_lexer": "ipython3",
   "version": "3.5.3"
  }
 },
 "nbformat": 4,
 "nbformat_minor": 2
}
