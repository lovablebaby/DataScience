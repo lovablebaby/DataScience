{
 "cells": [
  {
   "cell_type": "markdown",
   "metadata": {},
   "source": [
    "# pandas 데이터 입출력 종류\n",
    "- csv\n",
    "- clipboard\n",
    "- excel\n",
    "- json\n",
    "- html\n",
    "- python pickling\n",
    "- HDF5\n",
    "- SAS\n",
    "- STATA\n",
    "- SQL\n",
    "- Google bigquery"
   ]
  },
  {
   "cell_type": "markdown",
   "metadata": {},
   "source": [
    "- pandas.from_csv() : 읽어오기\n",
    "- names : 컬럼 이름 설정\n",
    "- index_col : 특정 컬럼 인덱스로 지정\n",
    "- sep : 구분자가 ,이외의 다른 것일 때\n",
    "- skiprows : 건너 뛰어야 할 행이 있을 때\n",
    "- na_values : 특정한 값 NA으로 취급할때\n",
    "- nrows : 일부 행만 읽을 때"
   ]
  },
  {
   "cell_type": "markdown",
   "metadata": {},
   "source": [
    "# 파일 출력\n",
    "- DataFrame.to_csv() -> dataframe을 csv 파일로"
   ]
  },
  {
   "cell_type": "markdown",
   "metadata": {},
   "source": [
    "# 인터넷 상의 데이터베이스 자료 입력\n",
    "- Yahoo finance\n",
    "- Google finance\n",
    "- FRED\n",
    "- Kenneth French's data library\n",
    "- World bank\n",
    "- Google Analytics"
   ]
  },
  {
   "cell_type": "code",
   "execution_count": 2,
   "metadata": {
    "collapsed": true
   },
   "outputs": [],
   "source": [
    "import pandas_datareader.data as web"
   ]
  },
  {
   "cell_type": "code",
   "execution_count": 3,
   "metadata": {
    "collapsed": true
   },
   "outputs": [],
   "source": [
    "import datetime\n",
    "start = datetime.datetime(2015,1,1)\n",
    "end = datetime.datetime(2016,6,30)"
   ]
  },
  {
   "cell_type": "code",
   "execution_count": 5,
   "metadata": {},
   "outputs": [
    {
     "data": {
      "text/html": [
       "<div>\n",
       "<table border=\"1\" class=\"dataframe\">\n",
       "  <thead>\n",
       "    <tr style=\"text-align: right;\">\n",
       "      <th></th>\n",
       "      <th>Open</th>\n",
       "      <th>High</th>\n",
       "      <th>Low</th>\n",
       "      <th>Close</th>\n",
       "      <th>Volume</th>\n",
       "      <th>Adj Close</th>\n",
       "    </tr>\n",
       "    <tr>\n",
       "      <th>Date</th>\n",
       "      <th></th>\n",
       "      <th></th>\n",
       "      <th></th>\n",
       "      <th></th>\n",
       "      <th></th>\n",
       "      <th></th>\n",
       "    </tr>\n",
       "  </thead>\n",
       "  <tbody>\n",
       "    <tr>\n",
       "      <th>2016-06-24</th>\n",
       "      <td>1445000.0</td>\n",
       "      <td>1445000.0</td>\n",
       "      <td>1360000.0</td>\n",
       "      <td>1400000.0</td>\n",
       "      <td>411000</td>\n",
       "      <td>1377613.81</td>\n",
       "    </tr>\n",
       "    <tr>\n",
       "      <th>2016-06-27</th>\n",
       "      <td>1400000.0</td>\n",
       "      <td>1405000.0</td>\n",
       "      <td>1385000.0</td>\n",
       "      <td>1398000.0</td>\n",
       "      <td>236700</td>\n",
       "      <td>1375645.79</td>\n",
       "    </tr>\n",
       "    <tr>\n",
       "      <th>2016-06-28</th>\n",
       "      <td>1390000.0</td>\n",
       "      <td>1404000.0</td>\n",
       "      <td>1379000.0</td>\n",
       "      <td>1399000.0</td>\n",
       "      <td>214300</td>\n",
       "      <td>1376629.80</td>\n",
       "    </tr>\n",
       "    <tr>\n",
       "      <th>2016-06-29</th>\n",
       "      <td>1408000.0</td>\n",
       "      <td>1412000.0</td>\n",
       "      <td>1391000.0</td>\n",
       "      <td>1396000.0</td>\n",
       "      <td>210500</td>\n",
       "      <td>1374660.37</td>\n",
       "    </tr>\n",
       "    <tr>\n",
       "      <th>2016-06-30</th>\n",
       "      <td>1408000.0</td>\n",
       "      <td>1445000.0</td>\n",
       "      <td>1397000.0</td>\n",
       "      <td>1425000.0</td>\n",
       "      <td>273400</td>\n",
       "      <td>1403217.07</td>\n",
       "    </tr>\n",
       "  </tbody>\n",
       "</table>\n",
       "</div>"
      ],
      "text/plain": [
       "                 Open       High        Low      Close  Volume   Adj Close\n",
       "Date                                                                      \n",
       "2016-06-24  1445000.0  1445000.0  1360000.0  1400000.0  411000  1377613.81\n",
       "2016-06-27  1400000.0  1405000.0  1385000.0  1398000.0  236700  1375645.79\n",
       "2016-06-28  1390000.0  1404000.0  1379000.0  1399000.0  214300  1376629.80\n",
       "2016-06-29  1408000.0  1412000.0  1391000.0  1396000.0  210500  1374660.37\n",
       "2016-06-30  1408000.0  1445000.0  1397000.0  1425000.0  273400  1403217.07"
      ]
     },
     "execution_count": 5,
     "metadata": {},
     "output_type": "execute_result"
    }
   ],
   "source": [
    "df = web.DataReader(\"005930.KS\",'yahoo',start,end)\n",
    "df.tail()"
   ]
  }
 ],
 "metadata": {
  "kernelspec": {
   "display_name": "Python 2",
   "language": "python",
   "name": "python2"
  },
  "language_info": {
   "codemirror_mode": {
    "name": "ipython",
    "version": 2
   },
   "file_extension": ".py",
   "mimetype": "text/x-python",
   "name": "python",
   "nbconvert_exporter": "python",
   "pygments_lexer": "ipython2",
   "version": "2.7.13"
  }
 },
 "nbformat": 4,
 "nbformat_minor": 2
}
