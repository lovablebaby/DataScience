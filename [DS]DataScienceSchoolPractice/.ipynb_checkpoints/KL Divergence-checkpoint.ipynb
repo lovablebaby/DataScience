{
 "cells": [
  {
   "cell_type": "markdown",
   "metadata": {},
   "source": [
    "한 주머니 안에 빨간 공이 10개, 파란 공이 15개 있을 때 우리가 일반적으로 빨간 공은 40%, 파란 공은 60%로 뽑을 수 있다.\n",
    "\n",
    "우리가 눈도 감고 누가 장난을 치지 않아도 확률은 기술적으로 그대로겠지만 과연 진짜로 그런지는 확인해봐야 하지 않겠는가?\n",
    "\n",
    "두 가지 상태를 비교하기 위해서 KL Divergence 개념이 도입됨.\n",
    "\n",
    "#### 머신러닝 상에서는, \n",
    "- 확률분포의 특성을 알아내거나\n",
    "- 확률분포 간 유사성을 정량화 하거나\n",
    "\n",
    "---\n",
    "\n",
    "정보 이론에 관한 얘기, 매일 일어나는 일들은 (던지면 1만 나오는 주사위, 아침에 해가 뜬다 등) 정보량이 별로 없습니다만 뭔가 특이한 일들에 대해서는 (뭐가 나올지 모르는 균등한 주사위, 개기일식이 있는 등) 정보량이 커집니다. 여기서 섀넌 엔트로피(정보량을 표현)와 쿨백 라이블러 발산(두 확률분포의 차이), 크로스 엔트로피(두 확률분포를 교차로 곱한 손실함수) 얘기가 가능합니다."
   ]
  },
  {
   "cell_type": "markdown",
   "metadata": {},
   "source": [
    "### reference \n",
    "1. [개인 워드프레스](https://bigdatascientistblog.wordpress.com/2017/09/11/a-simple-introduction-to-kullback-leibler-divergence-through-python-code, \"개인 워드프레스\")\n",
    "2. [크로스 엔트로피 위키피디아](https://en.wikipedia.org/wiki/Cross_entropy, \"Cross-Entropy\")\n",
    "3. [쿨백 라이블러 발산 위키피디아](https://en.wikipedia.org/wiki/Kullback%E2%80%93Leibler_divergence, \"KL divergence\")\n",
    "4. [정보이론 기초](https://ratsgo.github.io/statistics/2017/09/22/information/, \"Information Theory\")"
   ]
  },
  {
   "cell_type": "code",
   "execution_count": 1,
   "metadata": {
    "collapsed": true
   },
   "outputs": [],
   "source": [
    "import numpy as np"
   ]
  },
  {
   "cell_type": "code",
   "execution_count": 2,
   "metadata": {
    "collapsed": true
   },
   "outputs": [],
   "source": [
    "np.random.seed(8)"
   ]
  },
  {
   "cell_type": "code",
   "execution_count": 3,
   "metadata": {
    "collapsed": true
   },
   "outputs": [],
   "source": [
    "def redball_blueball(count=1):\n",
    "  '''\n",
    "  Generates a red or a blue ball\n",
    "  By default generates only one ball, but could generate more if desired\n",
    "  '''\n",
    "  bag = np.random.random(count) # generate a bag of balls with count balls\n",
    "  # now lets convert this bag into labels\n",
    "  # we assume that everything that has a value of 0.4 or below is a red ball\n",
    "  # and any value above 0.4 is a blue ball\n",
    "  return ['red' if (x <= 0.4) else 'blue' for x in bag.tolist()]"
   ]
  },
  {
   "cell_type": "code",
   "execution_count": 4,
   "metadata": {},
   "outputs": [
    {
     "name": "stdout",
     "output_type": "stream",
     "text": [
      "['blue', 'blue', 'blue', 'blue', 'red', 'red', 'blue', 'blue', 'blue', 'blue']\n",
      "['blue', 'blue', 'blue', 'blue', 'blue', 'blue', 'red', 'blue', 'red', 'red']\n",
      "['red', 'blue', 'red', 'red', 'red', 'red', 'red', 'blue', 'red', 'blue']\n"
     ]
    }
   ],
   "source": [
    "print(redball_blueball(10))\n",
    "print(redball_blueball(10))\n",
    "print(redball_blueball(10))"
   ]
  },
  {
   "cell_type": "code",
   "execution_count": 7,
   "metadata": {},
   "outputs": [
    {
     "name": "stdout",
     "output_type": "stream",
     "text": [
      "Counter({'blue': 8, 'red': 2})\n",
      "Counter({'blue': 65, 'red': 35})\n",
      "Counter({'blue': 598, 'red': 402})\n",
      "Counter({'blue': 598, 'red': 402})\n"
     ]
    }
   ],
   "source": [
    "from collections import Counter\n",
    " \n",
    "np.random.seed(8) #reset our random number generator\n",
    " \n",
    "bag_10 = redball_blueball(10)\n",
    " \n",
    "bag_100 = redball_blueball(100)\n",
    " \n",
    "bag_1000 = redball_blueball(1000)\n",
    " \n",
    "bag_10000 = redball_blueball(10000)\n",
    " \n",
    "print(Counter(bag_10))\n",
    "print(Counter(bag_100))\n",
    "print(Counter(bag_1000))\n",
    "print(Counter(bag_1000))"
   ]
  },
  {
   "cell_type": "code",
   "execution_count": 8,
   "metadata": {},
   "outputs": [
    {
     "name": "stdout",
     "output_type": "stream",
     "text": [
      "0.0915162218494\n",
      "0.00529177256922\n",
      "8.32873065994e-06\n",
      "8.25454404685e-05\n"
     ]
    }
   ],
   "source": [
    "from scipy import stats\n",
    "print(stats.entropy(pk=[0.2, 0.8], qk=[0.4, 0.6]))\n",
    "print(stats.entropy(pk=[0.35, 0.65], qk=[0.4, 0.6]))\n",
    "print(stats.entropy(pk=[0.402, 0.598], qk=[0.4, 0.6]))\n",
    "print(stats.entropy(pk=[0.4063, 0.5937], qk=[0.4, 0.6]))"
   ]
  },
  {
   "cell_type": "code",
   "execution_count": 9,
   "metadata": {},
   "outputs": [
    {
     "data": {
      "image/png": "[encoded data removed]",
      "text/plain": [
       "<matplotlib.figure.Figure at 0x10da01048>"
      ]
     },
     "metadata": {},
     "output_type": "display_data"
    }
   ],
   "source": [
    "import matplotlib.pyplot as plt\n",
    "x_axis = np.arange(-10, 10, 0.001)\n",
    "# Mean = 0, SD = 2.\n",
    "dist_a = stats.norm.pdf(x_axis,0,2)\n",
    "# Mean = 1, SD = 2\n",
    "dist_b = stats.norm.pdf(x_axis,1,2)\n",
    "plt.plot(x_axis, dist_a)\n",
    "plt.plot(x_axis, dist_b)\n",
    "plt.fill_between(x_axis, dist_a, dist_b, where=dist_b>=dist_a, facecolor='green', interpolate=True)\n",
    "plt.fill_between(x_axis, dist_a, dist_b, where=dist_b<=dist_a, facecolor='blue', interpolate=True)\n",
    "plt.show()"
   ]
  },
  {
   "cell_type": "code",
   "execution_count": 10,
   "metadata": {},
   "outputs": [
    {
     "name": "stdout",
     "output_type": "stream",
     "text": [
      "Model 1:  0.0915162218494\n",
      "Model 2:  0.00529177256922\n"
     ]
    }
   ],
   "source": [
    "actual = np.array([0.4, 0.6]) # actual number of red and blue balls\n",
    "model1 = np.array([0.2, 0.8]) # numbers we got above in 10 samples\n",
    "model2 = np.array([0.35, 0.65]) # numbers we got above for 100 samples\n",
    "\n",
    "kl1 = (model1 * np.log(model1/actual)).sum()\n",
    "print(\"Model 1: \", kl1)\n",
    "\n",
    "kl2 = (model2 * np.log(model2/actual)).sum()\n",
    "print(\"Model 2: \", kl2)\n"
   ]
  }
 ],
 "metadata": {
  "kernelspec": {
   "display_name": "Python [Root]",
   "language": "python",
   "name": "Python [Root]"
  },
  "language_info": {
   "codemirror_mode": {
    "name": "ipython",
    "version": 3
   },
   "file_extension": ".py",
   "mimetype": "text/x-python",
   "name": "python",
   "nbconvert_exporter": "python",
   "pygments_lexer": "ipython3",
   "version": "3.5.3"
  }
 },
 "nbformat": 4,
 "nbformat_minor": 2
}
