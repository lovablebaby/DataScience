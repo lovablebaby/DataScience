{
 "cells": [
  {
   "cell_type": "code",
   "execution_count": 3,
   "metadata": {},
   "outputs": [],
   "source": [
    "from __future__ import absolute_import, division, print_function, unicode_literals\n",
    "import tensorflow as tf\n",
    "from tensorflow import keras\n",
    "import numpy as np"
   ]
  },
  {
   "cell_type": "code",
   "execution_count": 4,
   "metadata": {},
   "outputs": [
    {
     "name": "stdout",
     "output_type": "stream",
     "text": [
      "1.13.1\n"
     ]
    }
   ],
   "source": [
    "print(tf.__version__)"
   ]
  },
  {
   "cell_type": "code",
   "execution_count": 7,
   "metadata": {},
   "outputs": [],
   "source": [
    "imdb = keras.datasets.imdb\n",
    "(train_data, train_labels), (test_data, test_labels) = imdb.load_data(num_words=10000)"
   ]
  },
  {
   "cell_type": "code",
   "execution_count": 8,
   "metadata": {},
   "outputs": [
    {
     "name": "stdout",
     "output_type": "stream",
     "text": [
      "25000 25000\n"
     ]
    }
   ],
   "source": [
    "print(len(train_data), len(train_labels))"
   ]
  },
  {
   "cell_type": "code",
   "execution_count": 11,
   "metadata": {},
   "outputs": [
    {
     "name": "stdout",
     "output_type": "stream",
     "text": [
      "Downloading data from https://storage.googleapis.com/tensorflow/tf-keras-datasets/imdb_word_index.json\n",
      "1646592/1641221 [==============================] - 0s 0us/step\n"
     ]
    }
   ],
   "source": [
    "# 단어와 정수 인덱스를 매핑해서 딕셔너리를 가져옵니다.\n",
    "\n",
    "word_index = imdb.get_word_index()"
   ]
  },
  {
   "cell_type": "code",
   "execution_count": 12,
   "metadata": {},
   "outputs": [],
   "source": [
    "# 처음의 몇 개 인덱스는 사전에 정의되어 있습니다.\n",
    "word_index = {k:(v+3) for k,v in word_index.items()}\n",
    "word_index['<PAD>']=0\n",
    "word_index['<START>']=1\n",
    "word_index['<UNK>']=2\n",
    "word_index['<UNUSED>']=3"
   ]
  },
  {
   "cell_type": "code",
   "execution_count": 13,
   "metadata": {},
   "outputs": [],
   "source": [
    "reverse_word_index = dict([(value,key) for (key, value) in word_index.items()])"
   ]
  },
  {
   "cell_type": "code",
   "execution_count": 14,
   "metadata": {},
   "outputs": [],
   "source": [
    "def decode_review(text):\n",
    "    return ' '.join([reverse_word_index.get(i, '?') for i in text])"
   ]
  },
  {
   "cell_type": "code",
   "execution_count": 15,
   "metadata": {},
   "outputs": [
    {
     "data": {
      "text/plain": [
       "\"<START> this film was just brilliant casting location scenery story direction everyone's really suited the part they played and you could just imagine being there robert <UNK> is an amazing actor and now the same being director <UNK> father came from the same scottish island as myself so i loved the fact there was a real connection with this film the witty remarks throughout the film were great it was just brilliant so much that i bought the film as soon as it was released for <UNK> and would recommend it to everyone to watch and the fly fishing was amazing really cried at the end it was so sad and you know what they say if you cry at a film it must have been good and this definitely was also <UNK> to the two little boy's that played the <UNK> of norman and paul they were just brilliant children are often left out of the <UNK> list i think because the stars that play them all grown up are such a big profile for the whole film but these children are amazing and should be praised for what they have done don't you think the whole story was so lovely because it was true and was someone's life after all that was shared with us all\""
      ]
     },
     "execution_count": 15,
     "metadata": {},
     "output_type": "execute_result"
    }
   ],
   "source": [
    "decode_review(train_data[0])"
   ]
  },
  {
   "cell_type": "markdown",
   "metadata": {},
   "source": [
    "### 데이터 준비"
   ]
  },
  {
   "cell_type": "markdown",
   "metadata": {},
   "source": [
    "원-핫 인코딩(one-hot encoding)은 정수 배열을 0과 1로 이루어진 벡터로 변환합니다. 예를 들어 배열 [3, 5]을 인덱스 3과 5만 1이고 나머지는 모두 0인 10,000차원 벡터로 변환할 수 있습니다. 그다음 실수 벡터 데이터를 다룰 수 있는 층-Dense 층-을 신경망의 첫 번째 층으로 사용합니다. 이 방법은 num_words * num_reviews 크기의 행렬이 필요하기 때문에 메모리를 많이 사용합니다.\n",
    "\n",
    "\n",
    "다른 방법으로는, 정수 배열의 길이가 모두 같도록 패딩(padding)을 추가해 max_length * num_reviews 크기의 정수 텐서를 만듭니다. 이런 형태의 텐서를 다룰 수 있는 임베딩(embedding) 층을 신경망의 첫 번째 층으로 사용할 수 있습니다"
   ]
  },
  {
   "cell_type": "code",
   "execution_count": 16,
   "metadata": {},
   "outputs": [],
   "source": [
    "train_data = keras.preprocessing.sequence.pad_sequences(train_data,\n",
    "                                                       value=word_index['<PAD>'],\n",
    "                                                       padding='post',\n",
    "                                                       maxlen=256)\n",
    "test_data = keras.preprocessing.sequence.pad_sequences(test_data,\n",
    "                                                      value=word_index['<PAD>'],\n",
    "                                                      padding='post',\n",
    "                                                      maxlen=256)"
   ]
  },
  {
   "cell_type": "code",
   "execution_count": 18,
   "metadata": {},
   "outputs": [
    {
     "name": "stdout",
     "output_type": "stream",
     "text": [
      "256 256\n"
     ]
    }
   ],
   "source": [
    "print(len(train_data[0]), len(train_data[1]))"
   ]
  },
  {
   "cell_type": "code",
   "execution_count": 19,
   "metadata": {},
   "outputs": [
    {
     "name": "stdout",
     "output_type": "stream",
     "text": [
      "[   1   14   22   16   43  530  973 1622 1385   65  458 4468   66 3941\n",
      "    4  173   36  256    5   25  100   43  838  112   50  670    2    9\n",
      "   35  480  284    5  150    4  172  112  167    2  336  385   39    4\n",
      "  172 4536 1111   17  546   38   13  447    4  192   50   16    6  147\n",
      " 2025   19   14   22    4 1920 4613  469    4   22   71   87   12   16\n",
      "   43  530   38   76   15   13 1247    4   22   17  515   17   12   16\n",
      "  626   18    2    5   62  386   12    8  316    8  106    5    4 2223\n",
      " 5244   16  480   66 3785   33    4  130   12   16   38  619    5   25\n",
      "  124   51   36  135   48   25 1415   33    6   22   12  215   28   77\n",
      "   52    5   14  407   16   82    2    8    4  107  117 5952   15  256\n",
      "    4    2    7 3766    5  723   36   71   43  530  476   26  400  317\n",
      "   46    7    4    2 1029   13  104   88    4  381   15  297   98   32\n",
      " 2071   56   26  141    6  194 7486   18    4  226   22   21  134  476\n",
      "   26  480    5  144   30 5535   18   51   36   28  224   92   25  104\n",
      "    4  226   65   16   38 1334   88   12   16  283    5   16 4472  113\n",
      "  103   32   15   16 5345   19  178   32    0    0    0    0    0    0\n",
      "    0    0    0    0    0    0    0    0    0    0    0    0    0    0\n",
      "    0    0    0    0    0    0    0    0    0    0    0    0    0    0\n",
      "    0    0    0    0]\n"
     ]
    }
   ],
   "source": [
    "print(train_data[0])"
   ]
  },
  {
   "cell_type": "markdown",
   "metadata": {},
   "source": [
    "### 모델 구성\n",
    "\n",
    "신경망은 층(layer)을 쌓아서 만듭니다. 이 구조에서는 두 가지를 결정해야 합니다:\n",
    "\n",
    "- 모델에서 얼마나 많은 층을 사용할 것인가?\n",
    "- 각 층에서 얼마나 많은 은닉 유닛(hidden unit)을 사용할 것인가?\n",
    "- 이 예제의 입력 데이터는 단어 인덱스의 배열입니다. 예측할 레이블은 0 또는 1입니다. "
   ]
  },
  {
   "cell_type": "code",
   "execution_count": 21,
   "metadata": {},
   "outputs": [
    {
     "name": "stdout",
     "output_type": "stream",
     "text": [
      "_________________________________________________________________\n",
      "Layer (type)                 Output Shape              Param #   \n",
      "=================================================================\n",
      "embedding_1 (Embedding)      (None, None, 16)          160000    \n",
      "_________________________________________________________________\n",
      "global_average_pooling1d_1 ( (None, 16)                0         \n",
      "_________________________________________________________________\n",
      "dense_2 (Dense)              (None, 16)                272       \n",
      "_________________________________________________________________\n",
      "dense_3 (Dense)              (None, 1)                 17        \n",
      "=================================================================\n",
      "Total params: 160,289\n",
      "Trainable params: 160,289\n",
      "Non-trainable params: 0\n",
      "_________________________________________________________________\n"
     ]
    }
   ],
   "source": [
    "vocab_size = 10000\n",
    "\n",
    "model = keras.Sequential()\n",
    "model.add(keras.layers.Embedding(vocab_size, 16, input_shape=(None,)))\n",
    "model.add(keras.layers.GlobalAveragePooling1D())\n",
    "model.add(keras.layers.Dense(16, activation=tf.nn.relu))\n",
    "model.add(keras.layers.Dense(1, activation=tf.nn.sigmoid))\n",
    "\n",
    "model.summary()"
   ]
  },
  {
   "cell_type": "markdown",
   "metadata": {},
   "source": [
    "1. Embedding 층 : 인코딩된 단어를 입력 받고, 단어 인덱스에 해당하는 임베딩 벡터를 찾음. 이 벡터는 모델이 훈련되면서 학습됨. 이 벡터는 출력 배열에 새로운 차원으로 추가됨. 최종 차원은  batch / sequence / embedding\n",
    "\n",
    "2. GlobalAveragePooling1D 는 sequence 차원에 대해 평균을 계산하여, 각 샘플에 대해 고정된 길이의 출력 벡터를 반환한다. 길이가 다른 입력을 다루는 간단한 방법\n",
    "\n",
    "3. 이 고정 길이의 출력 벡터는, 16개의 은닉 유닛을 가진 fully connected 층(Dense)를 거친다\n",
    "\n",
    "4. 마지막 층은 하나의 출력 노드만을 가진 완전 연결층. 시그모이드 활성화 함수를 이용하여 0과 1 사이의 실수를 출력하는데 이는 확률 또는 신뢰도라고 의미"
   ]
  },
  {
   "cell_type": "markdown",
   "metadata": {},
   "source": [
    "### 은닉 유닛"
   ]
  },
  {
   "cell_type": "markdown",
   "metadata": {},
   "source": [
    "위 모델에는 입력과 출력 사이에 두 개의 중간 또는 \"은닉\" 층이 있습니다. 출력(유닛 또는 노드, 뉴런)의 개수는 층이 가진 표현 공간(representational space)의 차원이 됩니다. 다른 말로 하면, 내부 표현을 학습할 때 허용되는 네트워크 자유도의 양입니다.\n",
    "\n",
    "모델에 많은 은닉 유닛(고차원의 표현 공간)과 층이 있다면 네트워크는 더 복잡한 표현을 학습할 수 있습니다. 하지만 네트워크의 계산 비용이 많이 들고 원치않는 패턴을 학습할 수도 있습니다. 이런 표현은 훈련 데이터의 성능을 향상시키지만 테스트 데이터에서는 그렇지 못합니다. 이를 과대적합(overfitting)이라고 부릅니다."
   ]
  },
  {
   "cell_type": "markdown",
   "metadata": {},
   "source": [
    "### 손실 함수와 옵티마이저"
   ]
  },
  {
   "cell_type": "markdown",
   "metadata": {},
   "source": [
    "모델이 훈련하려면 손실 함수(loss function)과 옵티마이저(optimizer)가 필요합니다. 이 예제는 이진 분류 문제이고 모델이 확률을 출력하므로(출력층의 유닛이 하나이고 sigmoid 활성화 함수를 사용합니다), binary_crossentropy 손실 함수를 사용하겠습니다.\n",
    "\n",
    "다른 손실 함수를 선택할 수 없는 것은 아닙니다. 예를 들어 mean_squared_error를 선택할 수 있습니다. 하지만 일반적으로 binary_crossentropy가 확률을 다루는데 적합합니다. 이 함수는 확률 분포 간의 거리를 측정합니다. 여기에서는 정답인 타깃 분포와 예측 분포 사이의 거리입니다."
   ]
  },
  {
   "cell_type": "code",
   "execution_count": 22,
   "metadata": {},
   "outputs": [],
   "source": [
    "model.compile(optimizer=tf.train.AdamOptimizer(),\n",
    "             loss = 'binary_crossentropy',\n",
    "             metrics = ['acc'])"
   ]
  },
  {
   "cell_type": "markdown",
   "metadata": {},
   "source": [
    "### 검증 세트 만들기"
   ]
  },
  {
   "cell_type": "code",
   "execution_count": 23,
   "metadata": {},
   "outputs": [],
   "source": [
    "x_val = train_data[:10000]\n",
    "partial_x_train = train_data[10000:]\n",
    "\n",
    "y_val = train_labels[:10000]\n",
    "partial_y_train = train_labels[10000:]"
   ]
  },
  {
   "cell_type": "markdown",
   "metadata": {},
   "source": [
    "### 모델 훈련"
   ]
  },
  {
   "cell_type": "markdown",
   "metadata": {},
   "source": [
    "512개의 샘플로 이루어진 미니배치(mini-batch)에서 40번의 에포크(epoch) 동안 훈련합니다. x_train과 y_train 텐서에 있는 모든 샘플에 대해 40번 반복한다는 뜻입니다. 훈련하는 동안 10,000개의 검증 세트에서 모델의 손실과 정확도를 모니터링"
   ]
  },
  {
   "cell_type": "code",
   "execution_count": 24,
   "metadata": {},
   "outputs": [
    {
     "name": "stdout",
     "output_type": "stream",
     "text": [
      "Train on 15000 samples, validate on 10000 samples\n",
      "WARNING:tensorflow:From /anaconda3/lib/python3.7/site-packages/tensorflow/python/ops/math_ops.py:3066: to_int32 (from tensorflow.python.ops.math_ops) is deprecated and will be removed in a future version.\n",
      "Instructions for updating:\n",
      "Use tf.cast instead.\n",
      "Epoch 1/40\n",
      "15000/15000 [==============================] - 1s 43us/sample - loss: 0.6919 - acc: 0.5971 - val_loss: 0.6898 - val_acc: 0.6889\n",
      "Epoch 2/40\n",
      "15000/15000 [==============================] - 0s 27us/sample - loss: 0.6860 - acc: 0.7323 - val_loss: 0.6822 - val_acc: 0.7430\n",
      "Epoch 3/40\n",
      "15000/15000 [==============================] - 0s 29us/sample - loss: 0.6740 - acc: 0.7616 - val_loss: 0.6670 - val_acc: 0.7642\n",
      "Epoch 4/40\n",
      "15000/15000 [==============================] - 0s 26us/sample - loss: 0.6523 - acc: 0.7735 - val_loss: 0.6416 - val_acc: 0.7677\n",
      "Epoch 5/40\n",
      "15000/15000 [==============================] - 0s 28us/sample - loss: 0.6184 - acc: 0.7991 - val_loss: 0.6050 - val_acc: 0.7903\n",
      "Epoch 6/40\n",
      "15000/15000 [==============================] - 0s 25us/sample - loss: 0.5734 - acc: 0.8185 - val_loss: 0.5616 - val_acc: 0.8061\n",
      "Epoch 7/40\n",
      "15000/15000 [==============================] - 0s 30us/sample - loss: 0.5231 - acc: 0.8317 - val_loss: 0.5149 - val_acc: 0.8222\n",
      "Epoch 8/40\n",
      "15000/15000 [==============================] - 0s 27us/sample - loss: 0.4732 - acc: 0.8489 - val_loss: 0.4722 - val_acc: 0.8345\n",
      "Epoch 9/40\n",
      "15000/15000 [==============================] - 0s 28us/sample - loss: 0.4275 - acc: 0.8631 - val_loss: 0.4344 - val_acc: 0.8454\n",
      "Epoch 10/40\n",
      "15000/15000 [==============================] - 0s 25us/sample - loss: 0.3878 - acc: 0.8759 - val_loss: 0.4038 - val_acc: 0.8530\n",
      "Epoch 11/40\n",
      "15000/15000 [==============================] - 0s 25us/sample - loss: 0.3548 - acc: 0.8842 - val_loss: 0.3789 - val_acc: 0.8607\n",
      "Epoch 12/40\n",
      "15000/15000 [==============================] - 0s 25us/sample - loss: 0.3273 - acc: 0.8923 - val_loss: 0.3601 - val_acc: 0.8647\n",
      "Epoch 13/40\n",
      "15000/15000 [==============================] - 0s 26us/sample - loss: 0.3049 - acc: 0.8976 - val_loss: 0.3437 - val_acc: 0.8704\n",
      "Epoch 14/40\n",
      "15000/15000 [==============================] - 0s 26us/sample - loss: 0.2849 - acc: 0.9034 - val_loss: 0.3319 - val_acc: 0.8744\n",
      "Epoch 15/40\n",
      "15000/15000 [==============================] - 0s 27us/sample - loss: 0.2682 - acc: 0.9077 - val_loss: 0.3221 - val_acc: 0.8755\n",
      "Epoch 16/40\n",
      "15000/15000 [==============================] - 0s 28us/sample - loss: 0.2532 - acc: 0.9133 - val_loss: 0.3140 - val_acc: 0.8762\n",
      "Epoch 17/40\n",
      "15000/15000 [==============================] - 0s 29us/sample - loss: 0.2394 - acc: 0.9177 - val_loss: 0.3074 - val_acc: 0.8788\n",
      "Epoch 18/40\n",
      "15000/15000 [==============================] - 0s 28us/sample - loss: 0.2272 - acc: 0.9218 - val_loss: 0.3017 - val_acc: 0.8816\n",
      "Epoch 19/40\n",
      "15000/15000 [==============================] - 0s 29us/sample - loss: 0.2162 - acc: 0.9245 - val_loss: 0.2970 - val_acc: 0.8826\n",
      "Epoch 20/40\n",
      "15000/15000 [==============================] - 0s 27us/sample - loss: 0.2062 - acc: 0.9283 - val_loss: 0.2940 - val_acc: 0.8826\n",
      "Epoch 21/40\n",
      "15000/15000 [==============================] - 0s 27us/sample - loss: 0.1962 - acc: 0.9335 - val_loss: 0.2913 - val_acc: 0.8837\n",
      "Epoch 22/40\n",
      "15000/15000 [==============================] - 0s 25us/sample - loss: 0.1877 - acc: 0.9369 - val_loss: 0.2889 - val_acc: 0.8854\n",
      "Epoch 23/40\n",
      "15000/15000 [==============================] - 0s 26us/sample - loss: 0.1791 - acc: 0.9412 - val_loss: 0.2883 - val_acc: 0.8846\n",
      "Epoch 24/40\n",
      "15000/15000 [==============================] - 0s 25us/sample - loss: 0.1717 - acc: 0.9442 - val_loss: 0.2870 - val_acc: 0.8858\n",
      "Epoch 25/40\n",
      "15000/15000 [==============================] - 0s 27us/sample - loss: 0.1641 - acc: 0.9478 - val_loss: 0.2857 - val_acc: 0.8852\n",
      "Epoch 26/40\n",
      "15000/15000 [==============================] - 0s 26us/sample - loss: 0.1574 - acc: 0.9502 - val_loss: 0.2866 - val_acc: 0.8837\n",
      "Epoch 27/40\n",
      "15000/15000 [==============================] - 0s 27us/sample - loss: 0.1510 - acc: 0.9529 - val_loss: 0.2863 - val_acc: 0.8847\n",
      "Epoch 28/40\n",
      "15000/15000 [==============================] - 0s 25us/sample - loss: 0.1449 - acc: 0.9553 - val_loss: 0.2871 - val_acc: 0.8862\n",
      "Epoch 29/40\n",
      "15000/15000 [==============================] - 0s 26us/sample - loss: 0.1395 - acc: 0.9583 - val_loss: 0.2888 - val_acc: 0.8842\n",
      "Epoch 30/40\n",
      "15000/15000 [==============================] - 0s 27us/sample - loss: 0.1339 - acc: 0.9596 - val_loss: 0.2885 - val_acc: 0.8854\n",
      "Epoch 31/40\n",
      "15000/15000 [==============================] - 0s 27us/sample - loss: 0.1282 - acc: 0.9623 - val_loss: 0.2898 - val_acc: 0.8856\n",
      "Epoch 32/40\n",
      "15000/15000 [==============================] - 0s 26us/sample - loss: 0.1231 - acc: 0.9655 - val_loss: 0.2915 - val_acc: 0.8863\n",
      "Epoch 33/40\n",
      "15000/15000 [==============================] - 0s 25us/sample - loss: 0.1181 - acc: 0.9671 - val_loss: 0.2940 - val_acc: 0.8850\n",
      "Epoch 34/40\n",
      "15000/15000 [==============================] - 0s 26us/sample - loss: 0.1137 - acc: 0.9679 - val_loss: 0.2964 - val_acc: 0.8846\n",
      "Epoch 35/40\n",
      "15000/15000 [==============================] - 0s 24us/sample - loss: 0.1096 - acc: 0.9689 - val_loss: 0.2991 - val_acc: 0.8856\n",
      "Epoch 36/40\n",
      "15000/15000 [==============================] - 0s 27us/sample - loss: 0.1052 - acc: 0.9711 - val_loss: 0.3011 - val_acc: 0.8845\n",
      "Epoch 37/40\n",
      "15000/15000 [==============================] - 0s 27us/sample - loss: 0.1009 - acc: 0.9725 - val_loss: 0.3040 - val_acc: 0.8840\n",
      "Epoch 38/40\n",
      "15000/15000 [==============================] - 0s 26us/sample - loss: 0.0970 - acc: 0.9739 - val_loss: 0.3079 - val_acc: 0.8825\n",
      "Epoch 39/40\n",
      "15000/15000 [==============================] - 0s 29us/sample - loss: 0.0939 - acc: 0.9749 - val_loss: 0.3117 - val_acc: 0.8828\n",
      "Epoch 40/40\n",
      "15000/15000 [==============================] - 0s 28us/sample - loss: 0.0898 - acc: 0.9770 - val_loss: 0.3148 - val_acc: 0.8829\n"
     ]
    }
   ],
   "source": [
    "history = model.fit(partial_x_train,\n",
    "                   partial_y_train,\n",
    "                   epochs = 40,\n",
    "                   batch_size=512,\n",
    "                   validation_data = (x_val, y_val),\n",
    "                   verbose=1)"
   ]
  },
  {
   "cell_type": "code",
   "execution_count": 25,
   "metadata": {},
   "outputs": [
    {
     "name": "stdout",
     "output_type": "stream",
     "text": [
      "25000/25000 [==============================] - 1s 20us/sample - loss: 0.3370 - acc: 0.8705\n"
     ]
    }
   ],
   "source": [
    "results = model.evaluate(test_data, test_labels)"
   ]
  },
  {
   "cell_type": "markdown",
   "metadata": {},
   "source": [
    "### 정확도와 손실 그래프"
   ]
  },
  {
   "cell_type": "markdown",
   "metadata": {},
   "source": [
    "model.fit()은 history 객체애 훈련 중의 모든 정보가 담긴 딕셔너리가 들어있다."
   ]
  },
  {
   "cell_type": "code",
   "execution_count": 27,
   "metadata": {
    "scrolled": true
   },
   "outputs": [
    {
     "data": {
      "text/plain": [
       "dict_keys(['loss', 'acc', 'val_loss', 'val_acc'])"
      ]
     },
     "execution_count": 27,
     "metadata": {},
     "output_type": "execute_result"
    }
   ],
   "source": [
    "history_dict = history.history\n",
    "history_dict.keys()"
   ]
  },
  {
   "cell_type": "code",
   "execution_count": 29,
   "metadata": {},
   "outputs": [],
   "source": [
    "%matplotlib inline"
   ]
  },
  {
   "cell_type": "code",
   "execution_count": 30,
   "metadata": {},
   "outputs": [
    {
     "data": {
      "text/plain": [
       "<matplotlib.legend.Legend at 0xb44c3bb70>"
      ]
     },
     "execution_count": 30,
     "metadata": {},
     "output_type": "execute_result"
    },
    {
     "data": {
      "image/png": "[encoded data removed]",
      "text/plain": [
       "<Figure size 432x288 with 1 Axes>"
      ]
     },
     "metadata": {
      "needs_background": "light"
     },
     "output_type": "display_data"
    }
   ],
   "source": [
    "import matplotlib.pyplot as plt\n",
    "\n",
    "acc = history_dict['acc']\n",
    "val_acc = history_dict['val_acc']\n",
    "loss = history_dict['loss']\n",
    "val_loss = history_dict['val_loss']\n",
    "\n",
    "epochs = range(1, len(acc) + 1)\n",
    "\n",
    "# \"bo\"는 \"파란색 점\"입니다\n",
    "plt.plot(epochs, loss, 'bo', label='Training loss')\n",
    "# b는 \"파란 실선\"입니다\n",
    "plt.plot(epochs, val_loss, 'b', label='Validation loss')\n",
    "plt.title('Training and validation loss')\n",
    "plt.xlabel('Epochs')\n",
    "plt.ylabel('Loss')\n",
    "plt.legend()"
   ]
  },
  {
   "cell_type": "code",
   "execution_count": 31,
   "metadata": {},
   "outputs": [
    {
     "data": {
      "text/plain": [
       "<matplotlib.legend.Legend at 0xb47caeeb8>"
      ]
     },
     "execution_count": 31,
     "metadata": {},
     "output_type": "execute_result"
    },
    {
     "data": {
      "image/png": "[encoded data removed]",
      "text/plain": [
       "<Figure size 432x288 with 1 Axes>"
      ]
     },
     "metadata": {
      "needs_background": "light"
     },
     "output_type": "display_data"
    }
   ],
   "source": [
    "plt.clf()   # 그림을 초기화합니다\n",
    "\n",
    "plt.plot(epochs, acc, 'bo', label='Training acc')\n",
    "plt.plot(epochs, val_acc, 'b', label='Validation acc')\n",
    "plt.title('Training and validation accuracy')\n",
    "plt.xlabel('Epochs')\n",
    "plt.ylabel('Accuracy')\n",
    "plt.legend()"
   ]
  },
  {
   "cell_type": "code",
   "execution_count": null,
   "metadata": {},
   "outputs": [],
   "source": []
  }
 ],
 "metadata": {
  "kernelspec": {
   "display_name": "Python 3",
   "language": "python",
   "name": "python3"
  },
  "language_info": {
   "codemirror_mode": {
    "name": "ipython",
    "version": 3
   },
   "file_extension": ".py",
   "mimetype": "text/x-python",
   "name": "python",
   "nbconvert_exporter": "python",
   "pygments_lexer": "ipython3",
   "version": "3.7.0"
  }
 },
 "nbformat": 4,
 "nbformat_minor": 2
}
