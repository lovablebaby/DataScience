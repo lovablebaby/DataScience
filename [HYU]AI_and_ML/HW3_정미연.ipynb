{
 "cells": [
  {
   "cell_type": "markdown",
   "metadata": {},
   "source": [
    "# MNIST with SVMs\n",
    "### make your modeling high-performance as much as you can"
   ]
  },
  {
   "cell_type": "markdown",
   "metadata": {
    "collapsed": true
   },
   "source": [
    "from sklearn.datasets import fetch_mldata\n",
    "from sklearn import svm\n"
   ]
  },
  {
   "cell_type": "markdown",
   "metadata": {},
   "source": [
    "mnist = fetch_mldata(\"MNIST original\")\n",
    "X, y = mnist.data, mnist.target\n",
    "X_train, X_test = X[:60000], X[60000:]\n",
    "y_train, y_test = y[:60000], y[60000:]"
   ]
  },
  {
   "cell_type": "markdown",
   "metadata": {
    "collapsed": true
   },
   "source": [
    "C = 1.0"
   ]
  },
  {
   "cell_type": "markdown",
   "metadata": {
    "collapsed": true
   },
   "source": [
    "svc = svm.SVC(kernel='linear', C=C).fit(X_train, y_train)\n",
    "\n",
    "res = svc.predict(X)\n",
    "print(\"Accuracy : %.2f\"%accuracy_score(y,res))"
   ]
  },
  {
   "cell_type": "code",
   "execution_count": 9,
   "metadata": {},
   "outputs": [],
   "source": [
    "# Author: Krzysztof Sopyla <krzysztofsopyla@gmail.com>\n",
    "# https://ksopyla.com\n",
    "# License: MIT\n",
    "\n",
    "# Standard scientific Python imports\n",
    "import matplotlib.pyplot as plt\n",
    "import numpy as np\n",
    "import time\n",
    "import datetime as dt\n",
    "\n",
    "# Import datasets, classifiers and performance metrics\n",
    "from sklearn import datasets, svm, metrics\n",
    "#fetch original mnist dataset\n",
    "from sklearn.datasets import fetch_mldata\n",
    "\n",
    "# import custom module\n",
    "from mnist_helpers import *\n",
    "\n",
    "\n",
    "mnist = fetch_mldata('MNIST original', data_home='./')\n",
    "\n",
    "#minist object contains: data, COL_NAMES, DESCR, target fields\n",
    "#you can check it by running\n",
    "mnist.keys()\n",
    "\n",
    "#data field is 70k x 784 array, each row represents pixels from 28x28=784 image\n",
    "images = mnist.data\n",
    "targets = mnist.target\n",
    "\n",
    "# Let's have a look at the random 16 images, \n",
    "# We have to reshape each data row, from flat array of 784 int to 28x28 2D array\n",
    "\n",
    "#pick  random indexes from 0 to size of our dataset\n",
    "show_some_digits(images,targets)\n",
    "\n",
    "#---------------- classification begins -----------------\n",
    "#scale data for [0,255] -> [0,1]\n",
    "#sample smaller size for testing\n",
    "#rand_idx = np.random.choice(images.shape[0],10000)\n",
    "#X_data =images[rand_idx]/255.0\n",
    "#Y      = targets[rand_idx]\n",
    "\n",
    "#full dataset classification\n",
    "X_data = images/255.0\n",
    "Y = targets\n",
    "\n",
    "#split data to train and test\n",
    "#from sklearn.cross_validation import train_test_split\n",
    "from sklearn.model_selection import train_test_split\n",
    "X_train, X_test, y_train, y_test = train_test_split(X_data, Y, test_size=0.15, random_state=42)\n",
    "\n",
    "\n",
    "\n"
   ]
  },
  {
   "cell_type": "code",
   "execution_count": null,
   "metadata": {
    "collapsed": true
   },
   "outputs": [],
   "source": [
    "############### Classification with grid search ##############\n",
    "# If you don't want to wait, comment this section and uncommnet section below with\n",
    "# standalone SVM classifier\n",
    "\n",
    "# Warning! It takes really long time to compute this about 2 days\n",
    "\n",
    "# Create parameters grid for RBF kernel, we have to set C and gamma\n",
    "from sklearn.model_selection import GridSearchCV\n",
    "\n",
    "# generate matrix with all gammas\n",
    "# [ [10^-4, 2*10^-4, 5*10^-4], \n",
    "#   [10^-3, 2*10^-3, 5*10^-3],\n",
    "#   ......\n",
    "#   [10^3, 2*10^3, 5*10^3] ]\n",
    "#gamma_range = np.outer(np.logspace(-4, 3, 8),np.array([1,2, 5]))\n",
    "gamma_range = np.outer(np.logspace(-3, 0, 4),np.array([1,5]))\n",
    "gamma_range = gamma_range.flatten()\n",
    "\n",
    "# generate matrix with all C\n",
    "#C_range = np.outer(np.logspace(-3, 3, 7),np.array([1,2, 5]))\n",
    "C_range = np.outer(np.logspace(-1, 1, 3),np.array([1,5]))\n",
    "# flatten matrix, change to 1D numpy array\n",
    "C_range = C_range.flatten()\n",
    "\n",
    "parameters = {'kernel':['rbf'], 'C':C_range, 'gamma': gamma_range}\n",
    "\n",
    "svm_clsf = svm.SVC()\n",
    "grid_clsf = GridSearchCV(estimator=svm_clsf,param_grid=parameters,n_jobs=1, verbose=2)\n",
    "\n",
    "\n",
    "start_time = dt.datetime.now()\n",
    "print('Start param searching at {}'.format(str(start_time)))\n",
    "\n",
    "grid_clsf.fit(X_train, y_train)\n",
    "\n",
    "elapsed_time= dt.datetime.now() - start_time\n",
    "print('Elapsed time, param searching {}'.format(str(elapsed_time)))\n",
    "sorted(grid_clsf.cv_results_.keys())\n",
    "\n",
    "classifier = grid_clsf.best_estimator_\n",
    "params = grid_clsf.best_params_\n",
    "\n",
    "\n",
    "\n",
    "scores = grid_clsf.cv_results_['mean_test_score'].reshape(len(C_range),\n",
    "                                                     len(gamma_range))\n",
    "\n",
    "plot_param_space_scores(scores, C_range, gamma_range)\n"
   ]
  },
  {
   "cell_type": "code",
   "execution_count": 12,
   "metadata": {},
   "outputs": [
    {
     "name": "stdout",
     "output_type": "stream",
     "text": [
      "Start learning at 2018-05-08 22:10:57.354474\n",
      "Stop learning 2018-05-08 22:33:13.147571\n",
      "Elapsed learning 0:22:15.793097\n",
      "Classification report for classifier SVC(C=5, cache_size=200, class_weight=None, coef0=0.0,\n",
      "  decision_function_shape=None, degree=3, gamma=0.05, kernel='rbf',\n",
      "  max_iter=-1, probability=False, random_state=None, shrinking=True,\n",
      "  tol=0.001, verbose=False):\n",
      "             precision    recall  f1-score   support\n",
      "\n",
      "        0.0       0.99      0.99      0.99      1024\n",
      "        1.0       0.99      0.99      0.99      1185\n",
      "        2.0       0.98      0.99      0.98      1051\n",
      "        3.0       0.98      0.98      0.98      1057\n",
      "        4.0       0.99      0.99      0.99       964\n",
      "        5.0       0.98      0.98      0.98       964\n",
      "        6.0       0.99      0.99      0.99      1085\n",
      "        7.0       0.99      0.98      0.99      1128\n",
      "        8.0       0.97      0.98      0.97      1037\n",
      "        9.0       0.98      0.97      0.98      1005\n",
      "\n",
      "avg / total       0.99      0.99      0.99     10500\n",
      "\n",
      "\n",
      "Confusion matrix:\n",
      "[[1014    0    2    0    0    2    2    0    1    3]\n",
      " [   0 1177    2    1    1    0    1    0    2    1]\n",
      " [   2    2 1037    2    0    0    0    2    5    1]\n",
      " [   0    0    3 1035    0    5    0    6    6    2]\n",
      " [   0    0    1    0  957    0    1    2    0    3]\n",
      " [   1    1    0    4    1  947    4    0    5    1]\n",
      " [   2    0    1    0    2    0 1076    0    4    0]\n",
      " [   1    1    8    1    1    0    0 1110    2    4]\n",
      " [   0    4    2    4    1    6    0    1 1018    1]\n",
      " [   3    1    0    7    5    2    0    4    9  974]]\n",
      "Accuracy=0.9852380952380952\n"
     ]
    }
   ],
   "source": [
    "\n",
    "######################### end grid section #############\n",
    "\n",
    "\n",
    "\n",
    "################ Classifier with good params ###########\n",
    "# Create a classifier: a support vector classifier\n",
    "\n",
    "param_C = 5\n",
    "param_gamma = 0.05\n",
    "classifier = svm.SVC(C=param_C,gamma=param_gamma)\n",
    "\n",
    "# We learn the digits on train part\n",
    "start_time = dt.datetime.now()\n",
    "print('Start learning at {}'.format(str(start_time)))\n",
    "classifier.fit(X_train, y_train)\n",
    "end_time = dt.datetime.now() \n",
    "print('Stop learning {}'.format(str(end_time)))\n",
    "elapsed_time= end_time - start_time\n",
    "print('Elapsed learning {}'.format(str(elapsed_time)))\n",
    "\n",
    "\n",
    "########################################################\n",
    "\n",
    "\n",
    "\n",
    "\n",
    "# Now predict the value of the test\n",
    "expected = y_test\n",
    "predicted = classifier.predict(X_test)\n",
    "\n",
    "show_some_digits(X_test,predicted,title_text=\"Predicted {}\")\n",
    "\n",
    "print(\"Classification report for classifier %s:\\n%s\\n\"\n",
    "      % (classifier, metrics.classification_report(expected, predicted)))\n",
    "      \n",
    "cm = metrics.confusion_matrix(expected, predicted)\n",
    "print(\"Confusion matrix:\\n%s\" % cm)\n",
    "\n",
    "plot_confusion_matrix(cm)\n",
    "\n",
    "print(\"Accuracy={}\".format(metrics.accuracy_score(expected, predicted)))"
   ]
  },
  {
   "cell_type": "code",
   "execution_count": null,
   "metadata": {
    "collapsed": true
   },
   "outputs": [],
   "source": []
  }
 ],
 "metadata": {
  "kernelspec": {
   "display_name": "Python [Root]",
   "language": "python",
   "name": "Python [Root]"
  },
  "language_info": {
   "codemirror_mode": {
    "name": "ipython",
    "version": 3
   },
   "file_extension": ".py",
   "mimetype": "text/x-python",
   "name": "python",
   "nbconvert_exporter": "python",
   "pygments_lexer": "ipython3",
   "version": "3.5.3"
  }
 },
 "nbformat": 4,
 "nbformat_minor": 2
}
