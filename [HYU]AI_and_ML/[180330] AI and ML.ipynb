{
 "cells": [
  {
   "cell_type": "markdown",
   "metadata": {},
   "source": [
    "# Linear Regression"
   ]
  },
  {
   "cell_type": "markdown",
   "metadata": {},
   "source": [
    "##### 2배 함수를 출력하기"
   ]
  },
  {
   "cell_type": "code",
   "execution_count": 1,
   "metadata": {
    "collapsed": true
   },
   "outputs": [],
   "source": [
    "def multiply2(i):\n",
    "    return 2*i"
   ]
  },
  {
   "cell_type": "code",
   "execution_count": 2,
   "metadata": {},
   "outputs": [
    {
     "data": {
      "text/plain": [
       "6"
      ]
     },
     "execution_count": 2,
     "metadata": {},
     "output_type": "execute_result"
    }
   ],
   "source": [
    "multiply2(3)"
   ]
  },
  {
   "cell_type": "code",
   "execution_count": 4,
   "metadata": {
    "scrolled": true
   },
   "outputs": [
    {
     "name": "stdout",
     "output_type": "stream",
     "text": [
      "enter a number: 3\n",
      "6\n"
     ]
    }
   ],
   "source": [
    "x = int(input(\"enter a number: \"))\n",
    "y = x*2\n",
    "print(y)"
   ]
  },
  {
   "cell_type": "code",
   "execution_count": 6,
   "metadata": {},
   "outputs": [
    {
     "name": "stdout",
     "output_type": "stream",
     "text": [
      "enter a number: 1\n",
      "2\n"
     ]
    }
   ],
   "source": [
    "# w를 2로 정의하여 실행하기\n",
    "w = 2\n",
    "x = int(input(\"enter a number: \"))\n",
    "y = w * x\n",
    "print(y)"
   ]
  },
  {
   "cell_type": "code",
   "execution_count": 8,
   "metadata": {},
   "outputs": [
    {
     "name": "stdout",
     "output_type": "stream",
     "text": [
      "enter a number: 1\n",
      "3\n"
     ]
    }
   ],
   "source": [
    "# w = 2, 입력값은 2배 + 1\n",
    "\n",
    "w = 2\n",
    "x = int(input(\"enter a number: \"))\n",
    "y = w*x + 1\n",
    "print(y)"
   ]
  },
  {
   "cell_type": "code",
   "execution_count": 9,
   "metadata": {},
   "outputs": [
    {
     "name": "stdout",
     "output_type": "stream",
     "text": [
      "enter a number: 30\n",
      "61\n"
     ]
    }
   ],
   "source": [
    "# w = 2, b = 1\n",
    "w = 2\n",
    "b = 1\n",
    "x = int(input(\"enter a number: \"))\n",
    "y = w*x + b\n",
    "print(y)"
   ]
  },
  {
   "cell_type": "code",
   "execution_count": 6,
   "metadata": {},
   "outputs": [
    {
     "data": {
      "image/png": "[encoded data removed]",
      "text/plain": [
       "<matplotlib.figure.Figure at 0x10f6e55c0>"
      ]
     },
     "metadata": {},
     "output_type": "display_data"
    }
   ],
   "source": [
    "## 선형 함수 예제\n",
    "# w=2로 정의하고 입력값 0 1 2 3 4 에 대한 곱의 결과 출력\n",
    "import matplotlib.pyplot as plt\n",
    "import numpy as np\n",
    "\n",
    "\n",
    "w = 2\n",
    "b = 2\n",
    "\n",
    "x = np.array([0, 1,2,3,4])\n",
    "y = w*x+b\n",
    "\n",
    "plt.plot(x,y)\n",
    "plt.show()"
   ]
  },
  {
   "cell_type": "code",
   "execution_count": 17,
   "metadata": {},
   "outputs": [
    {
     "data": {
      "image/png": "[encoded data removed]",
      "text/plain": [
       "<matplotlib.figure.Figure at 0x10fe88cf8>"
      ]
     },
     "metadata": {},
     "output_type": "display_data"
    }
   ],
   "source": [
    "## 선형함수를 통한 데이터 표현\n",
    "\n",
    "data_x = np.array([0,1,2,3,4,5,6,7,8,9,10])\n",
    "data_y = np.array([5,10,15,20,25,30,35,40,45,50,55])\n",
    "\n",
    "plt.plot(data_x, data_y, 'ro')\n",
    "\n",
    "w = 5\n",
    "x = data_x\n",
    "b = 5\n",
    "y = w * data_x + b\n",
    "\n",
    "plt.plot(data_x,y,color='blue')\n",
    "\n",
    "plt.show()"
   ]
  },
  {
   "cell_type": "code",
   "execution_count": 16,
   "metadata": {
    "collapsed": true
   },
   "outputs": [],
   "source": [
    "## 선형함수를 코드로 만들기\n",
    "\n",
    "def linearReg(x):\n",
    "    w = 5\n",
    "    b = 5\n",
    "    y = w * x + b\n",
    "    return y"
   ]
  },
  {
   "cell_type": "code",
   "execution_count": 21,
   "metadata": {},
   "outputs": [
    {
     "name": "stdout",
     "output_type": "stream",
     "text": [
      "17.5\n",
      "80\n"
     ]
    }
   ],
   "source": [
    "def linearReg(x):\n",
    "    w = 5\n",
    "    b = 5\n",
    "    y = w * x + b\n",
    "    return y\n",
    "\n",
    "# 2시간 30분 공부했을때, 15시간 공부했을때\n",
    "print(linearReg(2.5))\n",
    "print(linearReg(15))"
   ]
  }
 ],
 "metadata": {
  "kernelspec": {
   "display_name": "Python [Root]",
   "language": "python",
   "name": "Python [Root]"
  },
  "language_info": {
   "codemirror_mode": {
    "name": "ipython",
    "version": 3
   },
   "file_extension": ".py",
   "mimetype": "text/x-python",
   "name": "python",
   "nbconvert_exporter": "python",
   "pygments_lexer": "ipython3",
   "version": "3.5.3"
  }
 },
 "nbformat": 4,
 "nbformat_minor": 2
}
