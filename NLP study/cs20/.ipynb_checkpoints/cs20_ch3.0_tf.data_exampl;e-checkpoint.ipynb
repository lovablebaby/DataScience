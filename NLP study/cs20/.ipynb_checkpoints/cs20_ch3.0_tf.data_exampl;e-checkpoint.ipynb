{
 "cells": [
  {
   "cell_type": "markdown",
   "metadata": {},
   "source": [
    "## tf.data를 사용하는 방법\n",
    "---\n",
    "\n",
    "본 내용은 김보섭님의 깃허브를 참조하여 작성하였습니다\n",
    "[참고][김보섭님의 깃허브](\"https://github.com/aisolab/CS20\")\n"
   ]
  },
  {
   "cell_type": "markdown",
   "metadata": {},
   "source": [
    "## Setup"
   ]
  },
  {
   "cell_type": "code",
   "execution_count": 1,
   "metadata": {},
   "outputs": [
    {
     "name": "stderr",
     "output_type": "stream",
     "text": [
      "/Users/Yeoni/anaconda/lib/python3.5/site-packages/h5py/__init__.py:34: FutureWarning: Conversion of the second argument of issubdtype from `float` to `np.floating` is deprecated. In future, it will be treated as `np.float64 == np.dtype(float).type`.\n",
      "  from ._conv import register_converters as _register_converters\n"
     ]
    },
    {
     "name": "stdout",
     "output_type": "stream",
     "text": [
      "1.12.0\n"
     ]
    }
   ],
   "source": [
    "import numpy as np\n",
    "import tensorflow as tf\n",
    "\n",
    "print(tf.__version__)"
   ]
  },
  {
   "cell_type": "code",
   "execution_count": 2,
   "metadata": {},
   "outputs": [
    {
     "name": "stdout",
     "output_type": "stream",
     "text": [
      "(12, 2) (12,)\n"
     ]
    }
   ],
   "source": [
    "\n",
    "# 전체 데이터의 개수가 12개인 임의의 데이터셋 생성\n",
    "X = np.c_[np.arange(12), np.arange(12)]\n",
    "y = np.arange(12)\n",
    "\n",
    "print(X.shape, y.shape)"
   ]
  },
  {
   "cell_type": "code",
   "execution_count": 3,
   "metadata": {},
   "outputs": [
    {
     "name": "stdout",
     "output_type": "stream",
     "text": [
      "(8, 2) (8,)\n",
      "(4, 2) (4,)\n"
     ]
    }
   ],
   "source": [
    "# 위의 데이터를 train, validation으로 split\n",
    "X_tr = X[:8]\n",
    "y_tr = y[:8]\n",
    "\n",
    "X_val = X[8:]\n",
    "y_val = y[8:]\n",
    "\n",
    "print(X_tr.shape, y_tr.shape)\n",
    "print(X_val.shape, y_val.shape)"
   ]
  },
  {
   "cell_type": "markdown",
   "metadata": {},
   "source": [
    "## Template"
   ]
  },
  {
   "cell_type": "code",
   "execution_count": 4,
   "metadata": {},
   "outputs": [
    {
     "name": "stdout",
     "output_type": "stream",
     "text": [
      "epoch : 3, batch_size : 2, total_steps : 4\n"
     ]
    }
   ],
   "source": [
    "n_epoch = 3\n",
    "batch_size = 2\n",
    "total_steps = int(X_tr.shape[0]/batch_size)\n",
    "print('epoch : {}, batch_size : {}, total_steps : {}'.format(n_epoch, batch_size, total_steps))"
   ]
  },
  {
   "cell_type": "code",
   "execution_count": 7,
   "metadata": {},
   "outputs": [
    {
     "name": "stdout",
     "output_type": "stream",
     "text": [
      "<BatchDataset shapes: ((?, 2), (?,)), types: (tf.int64, tf.int64)>\n",
      "<BatchDataset shapes: ((?, 2), (?,)), types: (tf.int64, tf.int64)>\n"
     ]
    }
   ],
   "source": [
    "tr_data = tf.data.Dataset.from_tensor_slices((X_tr, y_tr))\n",
    "tr_data = tr_data.shuffle(buffer_size = 30)\n",
    "tr_data = tr_data.batch(batch_size = batch_size)\n",
    "\n",
    "val_data = tf.data.Dataset.from_tensor_slices((X_val, y_val))\n",
    "val_data = val_data.batch(batch_size = batch_size)\n",
    "\n",
    "print(tr_data)\n",
    "print(val_data)"
   ]
  },
  {
   "cell_type": "code",
   "execution_count": 8,
   "metadata": {
    "collapsed": true
   },
   "outputs": [],
   "source": [
    "tr_iterator = tr_data.make_initializable_iterator()\n",
    "val_iterator = val_data.make_initializable_iterator()\n",
    "\n",
    "# 학습 데이터를 담는 placeholder\n",
    "handle = tf.placeholder(dtype = tf.string)"
   ]
  },
  {
   "cell_type": "code",
   "execution_count": 9,
   "metadata": {
    "collapsed": true
   },
   "outputs": [],
   "source": [
    "iterator = tf.data.Iterator.from_string_handle(string_handle = handle,\n",
    "                                               output_shapes = tr_iterator.output_shapes,\n",
    "                                               output_types = tr_iterator.output_types)\n",
    "X_mb, y_mb = iterator.get_next()"
   ]
  },
  {
   "cell_type": "code",
   "execution_count": 10,
   "metadata": {},
   "outputs": [
    {
     "name": "stdout",
     "output_type": "stream",
     "text": [
      "epoch : 1 training start\n",
      "step : 1\n",
      "[[7 7]\n",
      " [4 4]] [7 4]\n",
      "step : 2\n",
      "[[5 5]\n",
      " [0 0]] [5 0]\n",
      "step : 3\n",
      "[[1 1]\n",
      " [6 6]] [1 6]\n",
      "step : 4\n",
      "[[3 3]\n",
      " [2 2]] [3 2]\n",
      "epoch : 1 training finished\n",
      "at epoch : 1, validation start\n",
      "step : 1\n",
      "[[8 8]\n",
      " [9 9]] [8 9]\n",
      "step : 2\n",
      "[[10 10]\n",
      " [11 11]] [10 11]\n",
      "validation finished\n",
      "epoch : 2 training start\n",
      "step : 1\n",
      "[[7 7]\n",
      " [1 1]] [7 1]\n",
      "step : 2\n",
      "[[3 3]\n",
      " [4 4]] [3 4]\n",
      "step : 3\n",
      "[[2 2]\n",
      " [5 5]] [2 5]\n",
      "step : 4\n",
      "[[6 6]\n",
      " [0 0]] [6 0]\n",
      "epoch : 2 training finished\n",
      "at epoch : 2, validation start\n",
      "step : 1\n",
      "[[8 8]\n",
      " [9 9]] [8 9]\n",
      "step : 2\n",
      "[[10 10]\n",
      " [11 11]] [10 11]\n",
      "validation finished\n",
      "epoch : 3 training start\n",
      "step : 1\n",
      "[[4 4]\n",
      " [2 2]] [4 2]\n",
      "step : 2\n",
      "[[1 1]\n",
      " [0 0]] [1 0]\n",
      "step : 3\n",
      "[[3 3]\n",
      " [7 7]] [3 7]\n",
      "step : 4\n",
      "[[6 6]\n",
      " [5 5]] [6 5]\n",
      "epoch : 3 training finished\n",
      "at epoch : 3, validation start\n",
      "step : 1\n",
      "[[8 8]\n",
      " [9 9]] [8 9]\n",
      "step : 2\n",
      "[[10 10]\n",
      " [11 11]] [10 11]\n",
      "validation finished\n"
     ]
    }
   ],
   "source": [
    "# n_tr_step, n_val_step 변수와 관련된 코드는 step 수 확인을 위해 넣어놓음\n",
    "sess_config = tf.ConfigProto(gpu_options=tf.GPUOptions(allow_growth=True))\n",
    "\n",
    "sess = tf.Session(config = sess_config)\n",
    "\n",
    "tr_handle, val_handle = sess.run([tr_iterator.string_handle(), val_iterator.string_handle()])\n",
    "\n",
    "for epoch in range(n_epoch):\n",
    "    \n",
    "    print('epoch : {} training start'.format(epoch + 1))\n",
    "    sess.run(tr_iterator.initializer) # run tr_iterator\n",
    "    n_tr_step = 0\n",
    "    \n",
    "    #training set\n",
    "    while True:\n",
    "        try:\n",
    "            n_tr_step += 1\n",
    "            X_tmp, y_tmp = sess.run([X_mb, y_mb], feed_dict = {handle : tr_handle})\n",
    "            print('step : {}'.format(n_tr_step))\n",
    "            print(X_tmp, y_tmp)\n",
    "        \n",
    "        except:\n",
    "            print('epoch : {} training finished'.format(epoch + 1))\n",
    "            break\n",
    "\n",
    "    print('at epoch : {}, validation start'.format(epoch + 1))        \n",
    "    sess.run(val_iterator.initializer)\n",
    "    n_val_step = 0\n",
    "    \n",
    "    #validation set\n",
    "    while True:\n",
    "        try:\n",
    "            n_val_step += 1\n",
    "            X_tmp, y_tmp = sess.run([X_mb, y_mb], feed_dict = {handle : val_handle})\n",
    "            \n",
    "            print('step : {}'.format(n_val_step))\n",
    "            print(X_tmp, y_tmp)\n",
    "        except:\n",
    "            print('validation finished')\n",
    "            break"
   ]
  }
 ],
 "metadata": {
  "kernelspec": {
   "display_name": "Python [Root]",
   "language": "python",
   "name": "Python [Root]"
  },
  "language_info": {
   "codemirror_mode": {
    "name": "ipython",
    "version": 3
   },
   "file_extension": ".py",
   "mimetype": "text/x-python",
   "name": "python",
   "nbconvert_exporter": "python",
   "pygments_lexer": "ipython3",
   "version": "3.5.3"
  }
 },
 "nbformat": 4,
 "nbformat_minor": 2
}
