{
 "cells": [
  {
   "cell_type": "markdown",
   "metadata": {},
   "source": [
    "# Lecture 2 : Operations"
   ]
  },
  {
   "cell_type": "markdown",
   "metadata": {},
   "source": [
    "### setup"
   ]
  },
  {
   "cell_type": "code",
   "execution_count": 2,
   "metadata": {},
   "outputs": [
    {
     "name": "stdout",
     "output_type": "stream",
     "text": [
      "1.2.0\n"
     ]
    }
   ],
   "source": [
    "import os, sys\n",
    "import numpy as np\n",
    "import matplotlib.pyplot as plt\n",
    "import tensorflow as tf\n",
    "%matplotlib inline\n",
    "\n",
    "print(tf.__version__)\n",
    "sess_config = tf.ConfigProto(gpu_options=tf.GPUOptions(allow_growth=True))"
   ]
  },
  {
   "cell_type": "markdown",
   "metadata": {},
   "source": [
    "## 1. Fun with Tensorboard"
   ]
  },
  {
   "cell_type": "code",
   "execution_count": 4,
   "metadata": {},
   "outputs": [
    {
     "name": "stdout",
     "output_type": "stream",
     "text": [
      "Tensor(\"Const:0\", shape=(), dtype=int32) Tensor(\"Const_1:0\", shape=(), dtype=int32) Tensor(\"Add:0\", shape=(), dtype=int32)\n",
      "5\n"
     ]
    }
   ],
   "source": [
    "# Nodes: operators, variables, and constants \n",
    "# Edges: tensors\n",
    "\n",
    "a = tf.constant(2)\n",
    "b = tf.constant(3)\n",
    "x = tf.add(a,b)\n",
    "print(a, b, x)\n",
    "with tf.Session(config = sess_config) as sess:\n",
    "    print(sess.run(x))"
   ]
  },
  {
   "cell_type": "code",
   "execution_count": 5,
   "metadata": {},
   "outputs": [
    {
     "name": "stdout",
     "output_type": "stream",
     "text": [
      "5\n"
     ]
    }
   ],
   "source": [
    "# to visualizer above program with Tensorboard\n",
    "\n",
    "tf.reset_default_graph()\n",
    "\n",
    "a = tf.constant(2)\n",
    "b = tf.constant(3)\n",
    "x = tf.add(a,b)\n",
    "\n",
    "# Create the summary writer after graph definition and before running your\n",
    "# session\n",
    "writer = tf.summary.FileWriter(logdir = '../graphs/lecture02/add_example',\n",
    "                      graph = tf.get_default_graph())\n",
    "writer.close()\n",
    "with tf.Session(config = sess_config) as sess:\n",
    "    print(sess.run(x))"
   ]
  },
  {
   "cell_type": "markdown",
   "metadata": {},
   "source": [
    "#### 텐서보드 실행법\n",
    "\n",
    "로그파일을 실행 후, 터미널을 켜서 아래의 코드를 실행\n",
    "\n",
    "\n",
    "```$ python [my_program.py]\n",
    "$ tensorboard --logdir=\"logdir\" --port 6006 ```"
   ]
  },
  {
   "cell_type": "markdown",
   "metadata": {},
   "source": [
    "## 2. Constant op"
   ]
  },
  {
   "cell_type": "code",
   "execution_count": 6,
   "metadata": {},
   "outputs": [
    {
     "name": "stdout",
     "output_type": "stream",
     "text": [
      "Tensor(\"vector:0\", shape=(2,), dtype=int32)\n",
      "[2 2]\n"
     ]
    }
   ],
   "source": [
    "# constant of 1-d tensor (vector type)\n",
    "\n",
    "a = tf.constant([2,2], name = 'vector')\n",
    "print(a)\n",
    "with tf.Session(config = sess_config) as sess:\n",
    "    print(sess.run(a))"
   ]
  },
  {
   "cell_type": "code",
   "execution_count": 7,
   "metadata": {},
   "outputs": [
    {
     "name": "stdout",
     "output_type": "stream",
     "text": [
      "Tensor(\"matrix:0\", shape=(2, 2), dtype=int32)\n",
      "[[0 1]\n",
      " [2 3]]\n"
     ]
    }
   ],
   "source": [
    "# constant of 2x2 tensor (matrix type)\n",
    "\n",
    "b = tf.constant([[0,1], [2,3]], name = 'matrix')\n",
    "print(b)\n",
    "\n",
    "with tf.Session(config = sess_config) as sess:\n",
    "    print(sess.run(b))"
   ]
  },
  {
   "cell_type": "code",
   "execution_count": 9,
   "metadata": {},
   "outputs": [
    {
     "name": "stdout",
     "output_type": "stream",
     "text": [
      "Tensor(\"zeros_1:0\", shape=(2, 3), dtype=int32)\n",
      "[[0 0 0]\n",
      " [0 0 0]]\n"
     ]
    }
   ],
   "source": [
    "# create a tensor of shape and all elements are zeros -> tf.zeros\n",
    "\n",
    "print(tf.zeros(shape = [2,3], dtype = tf.int32))\n",
    "with tf.Session(config = sess_config) as sess:\n",
    "    print(sess.run(tf.zeros(shape = [2,3], dtype = tf.int32)))"
   ]
  },
  {
   "cell_type": "code",
   "execution_count": 11,
   "metadata": {},
   "outputs": [
    {
     "name": "stdout",
     "output_type": "stream",
     "text": [
      "Tensor(\"zeros_like_2:0\", shape=(3, 2), dtype=int32)\n",
      "[[0 0]\n",
      " [0 0]\n",
      " [0 0]]\n"
     ]
    }
   ],
   "source": [
    "# create a tensor of shape and type as the input_tensor but all elements are zore.\n",
    "\n",
    "input_tensor = [[0,1], [2,3], [4,5]]\n",
    "print(tf.zeros_like(input_tensor))\n",
    "with tf.Session(config = sess_config) as sess:\n",
    "    print(sess.run(tf.zeros_like(input_tensor)))"
   ]
  },
  {
   "cell_type": "markdown",
   "metadata": {},
   "source": [
    "크기를 튜플로 명시하지 않고, 다른 배열과 같은 크기의 배열을 생성하고 싶을 때 zeros_like를 사용"
   ]
  },
  {
   "cell_type": "code",
   "execution_count": 12,
   "metadata": {},
   "outputs": [
    {
     "name": "stdout",
     "output_type": "stream",
     "text": [
      "Tensor(\"ones:0\", shape=(2, 3), dtype=int32)\n",
      "[[1 1 1]\n",
      " [1 1 1]]\n"
     ]
    }
   ],
   "source": [
    "# create a tensor of shape and all elements are ones\n",
    "print(tf.ones(shape = [2,3], dtype = tf.int32))\n",
    "with tf.Session(config = sess_config) as sess:\n",
    "    print(sess.run(tf.ones(shape = [2,3], dtype = tf.int32)))"
   ]
  },
  {
   "cell_type": "code",
   "execution_count": 14,
   "metadata": {},
   "outputs": [
    {
     "name": "stdout",
     "output_type": "stream",
     "text": [
      "Tensor(\"ones_like_2:0\", shape=(3, 2), dtype=int32)\n",
      "[[1 1]\n",
      " [1 1]\n",
      " [1 1]]\n"
     ]
    }
   ],
   "source": [
    "# create a tensor of shape and type (unless type is specified) as the input_tensor but all elements are ones.\n",
    "\n",
    "print(tf.ones_like(input_tensor))\n",
    "with tf.Session(config = sess_config) as sess:\n",
    "    print(sess.run(tf.ones_like(input_tensor)))"
   ]
  },
  {
   "cell_type": "code",
   "execution_count": 15,
   "metadata": {},
   "outputs": [
    {
     "name": "stdout",
     "output_type": "stream",
     "text": [
      "Tensor(\"Fill:0\", shape=(2, 3), dtype=int32)\n",
      "[[8 8 8]\n",
      " [8 8 8]]\n"
     ]
    }
   ],
   "source": [
    "# create a tensor filled with a scalar value.\n",
    "\n",
    "print(tf.fill([2,3],8))\n",
    "with tf.Session(config = sess_config) as sess:\n",
    "    print(sess.run(tf.fill([2,3], 8)))"
   ]
  },
  {
   "cell_type": "code",
   "execution_count": 16,
   "metadata": {},
   "outputs": [
    {
     "name": "stdout",
     "output_type": "stream",
     "text": [
      "Tensor(\"LinSpace:0\", shape=(4,), dtype=float32)\n",
      "[10. 11. 12. 13.]\n"
     ]
    }
   ],
   "source": [
    "'''\n",
    "create a sequence of num evenly-spaced values are generated beginning at start. If num >\n",
    "1, the values in the sequence increase by (stop - start) / (num - 1), so that the last one\n",
    "is exactly stop. comparable to but slightly different from numpy.linspace\n",
    "'''\n",
    "\n",
    "print(tf.lin_space(10., 13., 4))\n",
    "with tf.Session(config = sess_config) as sess:\n",
    "    print(sess.run(tf.lin_space(10., 13., 4)))"
   ]
  },
  {
   "cell_type": "markdown",
   "metadata": {},
   "source": [
    "numpy.linspace : 선형 구간을 지정한 수 만큼 분할한다."
   ]
  },
  {
   "cell_type": "code",
   "execution_count": 17,
   "metadata": {},
   "outputs": [
    {
     "name": "stdout",
     "output_type": "stream",
     "text": [
      "Tensor(\"range:0\", shape=(5,), dtype=int32)\n",
      "[0 1 2 3 4]\n"
     ]
    }
   ],
   "source": [
    "# create a sequence of numbers that begins at start and extends \n",
    "# by increments of delta up to\n",
    "# but not including limit\n",
    "print(tf.range(5)) \n",
    "with tf.Session(config = sess_config) as sess:\n",
    "    print(sess.run(tf.range(5)))\n",
    "    \n",
    "    # TensorFlow sequences are not iterable"
   ]
  },
  {
   "cell_type": "code",
   "execution_count": 18,
   "metadata": {},
   "outputs": [
    {
     "name": "stdout",
     "output_type": "stream",
     "text": [
      "[ 3  6  9 12 15]\n",
      "[3.  2.5 2.  1.5]\n",
      "[0 1 2 3 4]\n"
     ]
    }
   ],
   "source": [
    "with tf.Session(config = sess_config) as sess:\n",
    "    print(sess.run(tf.range(3, 18, 3)))\n",
    "    print(sess.run(tf.range(3, 1, -.5)))\n",
    "    print(sess.run(tf.range(5)))"
   ]
  },
  {
   "cell_type": "markdown",
   "metadata": {},
   "source": [
    "tf.range(3, 18, 3) -> (시작, 끝(미포함), 단위)"
   ]
  },
  {
   "cell_type": "code",
   "execution_count": 19,
   "metadata": {},
   "outputs": [
    {
     "ename": "TypeError",
     "evalue": "'Tensor' object is not iterable.",
     "output_type": "error",
     "traceback": [
      "\u001b[0;31m---------------------------------------------------------------------------\u001b[0m",
      "\u001b[0;31mTypeError\u001b[0m                                 Traceback (most recent call last)",
      "\u001b[0;32m<ipython-input-19-b1a040fb85ad>\u001b[0m in \u001b[0;36m<module>\u001b[0;34m()\u001b[0m\n\u001b[0;32m----> 1\u001b[0;31m \u001b[0;32mfor\u001b[0m \u001b[0m_\u001b[0m \u001b[0;32min\u001b[0m \u001b[0mtf\u001b[0m\u001b[0;34m.\u001b[0m\u001b[0mrange\u001b[0m\u001b[0;34m(\u001b[0m\u001b[0;36m4\u001b[0m\u001b[0;34m)\u001b[0m\u001b[0;34m:\u001b[0m\u001b[0;34m\u001b[0m\u001b[0m\n\u001b[0m\u001b[1;32m      2\u001b[0m     \u001b[0mprint\u001b[0m\u001b[0;34m(\u001b[0m\u001b[0m_\u001b[0m\u001b[0;34m)\u001b[0m\u001b[0;34m\u001b[0m\u001b[0m\n",
      "\u001b[0;32m~/anaconda/lib/python3.5/site-packages/tensorflow/python/framework/ops.py\u001b[0m in \u001b[0;36m__iter__\u001b[0;34m(self)\u001b[0m\n\u001b[1;32m    539\u001b[0m       \u001b[0mTypeError\u001b[0m\u001b[0;34m:\u001b[0m \u001b[0mwhen\u001b[0m \u001b[0minvoked\u001b[0m\u001b[0;34m.\u001b[0m\u001b[0;34m\u001b[0m\u001b[0m\n\u001b[1;32m    540\u001b[0m     \"\"\"\n\u001b[0;32m--> 541\u001b[0;31m     \u001b[0;32mraise\u001b[0m \u001b[0mTypeError\u001b[0m\u001b[0;34m(\u001b[0m\u001b[0;34m\"'Tensor' object is not iterable.\"\u001b[0m\u001b[0;34m)\u001b[0m\u001b[0;34m\u001b[0m\u001b[0m\n\u001b[0m\u001b[1;32m    542\u001b[0m \u001b[0;34m\u001b[0m\u001b[0m\n\u001b[1;32m    543\u001b[0m   \u001b[0;32mdef\u001b[0m \u001b[0m__bool__\u001b[0m\u001b[0;34m(\u001b[0m\u001b[0mself\u001b[0m\u001b[0;34m)\u001b[0m\u001b[0;34m:\u001b[0m\u001b[0;34m\u001b[0m\u001b[0m\n",
      "\u001b[0;31mTypeError\u001b[0m: 'Tensor' object is not iterable."
     ]
    }
   ],
   "source": [
    "for _ in tf.range(4):\n",
    "    print(_)"
   ]
  },
  {
   "cell_type": "markdown",
   "metadata": {},
   "source": [
    "그 외에도\n",
    "\n",
    "```tf.random_normal\n",
    "tf.truncated_normal\n",
    "tf.random_uniform\n",
    "tf.random_shuffle\n",
    "tf.random_crop\n",
    "tf.multinomial\n",
    "tf.random_gamma\n",
    "tf.set_random_seed```\n",
    "\n",
    "가 존재한다. \n",
    "\n",
    "[함수 링크](\"https://www.tensorflow.org/api_guides/python/constant_op\")"
   ]
  },
  {
   "cell_type": "markdown",
   "metadata": {},
   "source": [
    "### Pass Math operation, data type"
   ]
  },
  {
   "cell_type": "markdown",
   "metadata": {},
   "source": [
    "[참고][Math operation](\"https://www.tensorflow.org/api_docs/python/tf/math/divide\")"
   ]
  },
  {
   "cell_type": "markdown",
   "metadata": {},
   "source": [
    "[참고] data type\n",
    "\n",
    "\n",
    "```tf.float16: 16-bit half-precision floating-point.\n",
    "tf.float32: 32-bit single-precision floating-point.\n",
    "tf.float64: 64-bit double-precision floating-point.\n",
    "tf.bfloat16: 16-bit truncated floating-point.\n",
    "tf.complex64: 64-bit single-precision complex.\n",
    "tf.complex128: 128-bit double-precision complex.\n",
    "tf.int8: 8-bit signed integer.\n",
    "tf.uint8: 8-bit unsigned integer.\n",
    "tf.uint16: 16-bit unsigned integer.\n",
    "tf.uint32: 32-bit unsigned integer.\n",
    "tf.uint64: 64-bit unsigned integer.\n",
    "tf.int16: 16-bit signed integer.\n",
    "tf.int32: 32-bit signed integer.\n",
    "tf.int64: 64-bit signed integer.\n",
    "tf.bool: Boolean.\n",
    "tf.string: String.\n",
    "tf.qint8: Quantized 8-bit signed integer.\n",
    "tf.quint8: Quantized 8-bit unsigned integer.\n",
    "tf.qint16: Quantized 16-bit signed integer.\n",
    "tf.quint16: Quantized 16-bit unsigned integer.\n",
    "tf.qint32: Quantized 32-bit signed integer.\n",
    "tf.resource: Handle to a mutable resource.\n",
    "tf.variant: Values of arbitrary types.```"
   ]
  },
  {
   "cell_type": "markdown",
   "metadata": {},
   "source": [
    "## 5. Variables"
   ]
  },
  {
   "cell_type": "code",
   "execution_count": 20,
   "metadata": {
    "collapsed": true
   },
   "outputs": [],
   "source": [
    "tf.reset_default_graph()"
   ]
  },
  {
   "cell_type": "code",
   "execution_count": 21,
   "metadata": {
    "collapsed": true
   },
   "outputs": [],
   "source": [
    "# Create variables\n",
    "# Note that when we use tf.constant as an initializer,\n",
    "# we don't need to provide shape\n",
    "\n",
    "s = tf.get_variable(name = 'scalar',\n",
    "                    initializer = tf.constant(2))\n",
    "m = tf.get_variable(name = 'matrix',\n",
    "                    initializer = tf.constant([[0, 1], [2, 3]]))\n",
    "W = tf.get_variable(name = 'big_matrix', shape = [784, 10],\n",
    "                    initializer = tf.zeros_initializer())"
   ]
  },
  {
   "cell_type": "code",
   "execution_count": 22,
   "metadata": {},
   "outputs": [
    {
     "name": "stdout",
     "output_type": "stream",
     "text": [
      "[b'scalar' b'matrix' b'big_matrix']\n"
     ]
    }
   ],
   "source": [
    "# Initialize variables\n",
    "with tf.Session(config = sess_config) as sess:\n",
    "    print(sess.run(tf.report_uninitialized_variables()))"
   ]
  },
  {
   "cell_type": "code",
   "execution_count": 23,
   "metadata": {},
   "outputs": [
    {
     "name": "stdout",
     "output_type": "stream",
     "text": [
      "[]\n"
     ]
    }
   ],
   "source": [
    "with tf.Session(config = sess_config) as sess:\n",
    "    sess.run(tf.global_variables_initializer())\n",
    "    print(sess.run(tf.report_uninitialized_variables()))"
   ]
  },
  {
   "cell_type": "markdown",
   "metadata": {},
   "source": [
    "변수 초기화 작업"
   ]
  },
  {
   "cell_type": "code",
   "execution_count": 24,
   "metadata": {},
   "outputs": [
    {
     "name": "stdout",
     "output_type": "stream",
     "text": [
      "10\n"
     ]
    }
   ],
   "source": [
    "# Interesting Assign example\n",
    "\n",
    "tf.reset_default_graph()\n",
    "W = tf.Variable(10)\n",
    "W.assign(100)\n",
    "\n",
    "with tf.Session(config = sess_config) as sess:\n",
    "    sess.run(W.initializer)\n",
    "    print(W.eval())"
   ]
  },
  {
   "cell_type": "code",
   "execution_count": null,
   "metadata": {
    "collapsed": true
   },
   "outputs": [],
   "source": []
  }
 ],
 "metadata": {
  "kernelspec": {
   "display_name": "Python [Root]",
   "language": "python",
   "name": "Python [Root]"
  },
  "language_info": {
   "codemirror_mode": {
    "name": "ipython",
    "version": 3
   },
   "file_extension": ".py",
   "mimetype": "text/x-python",
   "name": "python",
   "nbconvert_exporter": "python",
   "pygments_lexer": "ipython3",
   "version": "3.5.3"
  }
 },
 "nbformat": 4,
 "nbformat_minor": 2
}
