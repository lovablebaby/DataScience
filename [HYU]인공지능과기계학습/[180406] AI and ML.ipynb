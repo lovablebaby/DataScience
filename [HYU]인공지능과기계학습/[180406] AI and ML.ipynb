{
 "cells": [
  {
   "cell_type": "markdown",
   "metadata": {},
   "source": [
    "### Linear Regression and Cost function"
   ]
  },
  {
   "cell_type": "code",
   "execution_count": 1,
   "metadata": {
    "collapsed": true
   },
   "outputs": [],
   "source": [
    "import numpy as np\n",
    "import matplotlib.pyplot as plt\n",
    "\n",
    "# x\n",
    "Input = np.array([0,1,2,3,4])\n",
    "# y\n",
    "Output = np.array([0,1,2,3,4])\n",
    "\n",
    "w = 2; b= 0;\n",
    "Model = w * Input + b"
   ]
  },
  {
   "cell_type": "code",
   "execution_count": 2,
   "metadata": {},
   "outputs": [
    {
     "data": {
      "image/png": "[encoded data removed]",
      "text/plain": [
       "<matplotlib.figure.Figure at 0x10a343390>"
      ]
     },
     "metadata": {},
     "output_type": "display_data"
    }
   ],
   "source": [
    "plt.plot(Input, Output, 'or-')\n",
    "plt.plot(Input, Model, 'ob-')\n",
    "plt.show()"
   ]
  },
  {
   "cell_type": "code",
   "execution_count": 17,
   "metadata": {},
   "outputs": [
    {
     "name": "stdout",
     "output_type": "stream",
     "text": [
      "3.0\n"
     ]
    }
   ],
   "source": [
    "c = (Model - Output)**2 # (H(x)-y)^2\n",
    "c = sum(c) # sum(H(x)-y)^2\n",
    "c = c/(2*len(Model)) # 1/2m * sum(H(x)-y)^2\n",
    "print(c)"
   ]
  },
  {
   "cell_type": "code",
   "execution_count": 25,
   "metadata": {},
   "outputs": [
    {
     "name": "stdout",
     "output_type": "stream",
     "text": [
      "3.0\n"
     ]
    }
   ],
   "source": [
    "costFunction=sum((Model-Output)**2)/(2*len(Output))\n",
    "print(costFunction)"
   ]
  },
  {
   "cell_type": "markdown",
   "metadata": {},
   "source": [
    "### Gradient Descent"
   ]
  },
  {
   "cell_type": "code",
   "execution_count": 32,
   "metadata": {
    "collapsed": true
   },
   "outputs": [],
   "source": [
    "def hypothesis(w,x,b):\n",
    "    h = w*x+b\n",
    "    return h\n",
    "\n",
    "def cost_function(h,Output):\n",
    "    c = (sum(pow((h-Output), 2)))/(2*len(h))\n",
    "    return c"
   ]
  },
  {
   "cell_type": "code",
   "execution_count": 55,
   "metadata": {},
   "outputs": [
    {
     "data": {
      "image/png": "[encoded data removed]",
      "text/plain": [
       "<matplotlib.figure.Figure at 0x10c1b0cf8>"
      ]
     },
     "metadata": {},
     "output_type": "display_data"
    }
   ],
   "source": [
    "# x\n",
    "Input = np.array([0,1,2,3,4])\n",
    "# y\n",
    "Output = np.array([0,1,2,3,4])\n",
    "\n",
    "for i in range(-50,53):\n",
    "    w = i\n",
    "    b = 0\n",
    "    h = hypothesis(w,Input,b)\n",
    "    cost = cost_function(h, Output)\n",
    "    plt.plot(w-cost,'or-')\n",
    "\n",
    "plt.show()"
   ]
  },
  {
   "cell_type": "code",
   "execution_count": 53,
   "metadata": {
    "collapsed": true
   },
   "outputs": [],
   "source": [
    "def gradientDecent(Input, Output, w):\n",
    "    multi_wx = w * Input\n",
    "    loss = multi_wx - Output\n",
    "    loss = loss*Input\n",
    "    loss = sum(loss)/len(Input) \n",
    "    \n",
    "    w = w - 0.01 * loss\n",
    "    \n",
    "    return 0\n",
    "\n",
    "w = 2; b = 0;\n",
    "# x\n",
    "Input = np.array([0,1,2,3,4])\n",
    "# y\n",
    "Output = np.array([0,1,2,3,4])\n",
    "\n",
    "for i in range(100):\n",
    "    w = 2\n",
    "    b = 0\n",
    "    h = hypothesis(w,Input,b)\n",
    "    cost = cost_function(h, Output)\n",
    "    plt.plot(w-cost,'or-')\n",
    "    \n",
    "    plt.plot(w)\n",
    "    plt.show()"
   ]
  },
  {
   "cell_type": "code",
   "execution_count": null,
   "metadata": {
    "collapsed": true
   },
   "outputs": [],
   "source": []
  }
 ],
 "metadata": {
  "kernelspec": {
   "display_name": "Python [Root]",
   "language": "python",
   "name": "Python [Root]"
  },
  "language_info": {
   "codemirror_mode": {
    "name": "ipython",
    "version": 3
   },
   "file_extension": ".py",
   "mimetype": "text/x-python",
   "name": "python",
   "nbconvert_exporter": "python",
   "pygments_lexer": "ipython3",
   "version": "3.5.3"
  }
 },
 "nbformat": 4,
 "nbformat_minor": 2
}
