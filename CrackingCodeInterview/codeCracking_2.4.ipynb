{
 "cells": [
  {
   "cell_type": "markdown",
   "metadata": {},
   "source": [
    "## Dividing linked-list code by specific node (target)"
   ]
  },
  {
   "cell_type": "code",
   "execution_count": 2,
   "metadata": {
    "collapsed": true
   },
   "outputs": [],
   "source": [
    "__author__ = 'Minsuk Heo'\n",
    "\n",
    "\"\"\"\n",
    "Linked List\n",
    "input: 6-3-8-1-5-9,5\n",
    "output: 1-3-5-6-8-9\n",
    "sort linked list with a key,\n",
    "\"\"\"\n",
    "\n",
    "import unittest\n",
    "\n",
    "class Node:\n",
    "    def __init__(self, item):\n",
    "        self.val = item\n",
    "        self.next = None\n",
    "\n",
    "class LinkedList:\n",
    "    def __init__(self, item):\n",
    "        self.head = Node(item)\n",
    "\n",
    "    def add(self, item):\n",
    "        cur = self.head\n",
    "        while cur.next is not None:\n",
    "            cur = cur.next\n",
    "        cur.next = Node(item)\n",
    "\n",
    "    def getHead(self):\n",
    "        return self.head\n",
    "\n",
    "    def printlist(self):\n",
    "        cur = self.head\n",
    "        res = []\n",
    "        while cur is not None:\n",
    "            res.append(cur.val)\n",
    "            cur = cur.next\n",
    "        return str(res)\n",
    "\n",
    "def solution(ll, key):\n",
    "    cur = ll.getHead()\n",
    "    pre = None\n",
    "    post = None\n",
    "    while cur is not None:\n",
    "        if cur.val != key:\n",
    "            if cur.val > key:\n",
    "                if post is None:\n",
    "                    post = LinkedList(cur.val)\n",
    "                else:\n",
    "                    post.add(cur.val)\n",
    "            elif cur.val < key:\n",
    "                if pre is None:\n",
    "                    pre = LinkedList(cur.val)\n",
    "                else:\n",
    "                    pre.add(cur.val)\n",
    "        cur = cur.next\n",
    "\n",
    "    cur = pre.getHead()\n",
    "    while cur.next is not None:\n",
    "        cur = cur.next\n",
    "    cur.next = Node(key)\n",
    "    cur.next.next = post.getHead()\n",
    "    return pre.printlist()\n",
    "\n",
    "\n",
    "\n",
    "\n",
    "class LinkedListTest(unittest.TestCase):\n",
    "    def test(self):\n",
    "        ll = LinkedList(6)\n",
    "        ll.add(3)\n",
    "        ll.add(8)\n",
    "        ll.add(1)\n",
    "        ll.add(5)\n",
    "        ll.add(9)\n",
    "        self.assertEqual(\"[3, 1, 5, 6, 8, 9]\", solution(ll,5))\n"
   ]
  }
 ],
 "metadata": {
  "kernelspec": {
   "display_name": "Python [Root]",
   "language": "python",
   "name": "Python [Root]"
  },
  "language_info": {
   "codemirror_mode": {
    "name": "ipython",
    "version": 3
   },
   "file_extension": ".py",
   "mimetype": "text/x-python",
   "name": "python",
   "nbconvert_exporter": "python",
   "pygments_lexer": "ipython3",
   "version": "3.5.3"
  }
 },
 "nbformat": 4,
 "nbformat_minor": 2
}
