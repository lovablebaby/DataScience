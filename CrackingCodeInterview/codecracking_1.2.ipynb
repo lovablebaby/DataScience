{
 "cells": [
  {
   "cell_type": "markdown",
   "metadata": {},
   "source": [
    "## Reverse String"
   ]
  },
  {
   "cell_type": "markdown",
   "metadata": {},
   "source": [
    "- solve 1"
   ]
  },
  {
   "cell_type": "code",
   "execution_count": 1,
   "metadata": {
    "collapsed": true
   },
   "outputs": [],
   "source": [
    "def reverseString(str):\n",
    "    return str[::-1] # backwarding reading string. It's too easy!"
   ]
  },
  {
   "cell_type": "markdown",
   "metadata": {},
   "source": [
    "then.. \n",
    "\n",
    "- solve 2"
   ]
  },
  {
   "cell_type": "code",
   "execution_count": 3,
   "metadata": {
    "collapsed": true
   },
   "outputs": [],
   "source": [
    "import unittest\n",
    "\n",
    "def reverseString2(str):\n",
    "    stack = []\n",
    "    for ch in str:\n",
    "        stack.append(ch)\n",
    "\n",
    "    result = \"\"\n",
    "    while len(stack) > 0:\n",
    "        result += stack.pop()\n",
    "\n",
    "    return result\n",
    "\n",
    "class reverseStringTest(unittest.TestCase):\n",
    "    def test(self):\n",
    "        input = \"abcde\"\n",
    "        self.assertEquals(\"edcba\", reverseString(input))\n",
    "\n",
    "        input = \"qwert\"\n",
    "        self.assertEquals(\"trewq\", reverseString2(input))"
   ]
  },
  {
   "cell_type": "code",
   "execution_count": 5,
   "metadata": {},
   "outputs": [
    {
     "data": {
      "text/plain": [
       "'ananab'"
      ]
     },
     "execution_count": 5,
     "metadata": {},
     "output_type": "execute_result"
    }
   ],
   "source": [
    "reverseString2(\"banana\")"
   ]
  }
 ],
 "metadata": {
  "kernelspec": {
   "display_name": "Python [Root]",
   "language": "python",
   "name": "Python [Root]"
  },
  "language_info": {
   "codemirror_mode": {
    "name": "ipython",
    "version": 3
   },
   "file_extension": ".py",
   "mimetype": "text/x-python",
   "name": "python",
   "nbconvert_exporter": "python",
   "pygments_lexer": "ipython3",
   "version": "3.5.3"
  }
 },
 "nbformat": 4,
 "nbformat_minor": 2
}
