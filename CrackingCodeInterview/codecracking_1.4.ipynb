{
 "cells": [
  {
   "cell_type": "markdown",
   "metadata": {},
   "source": [
    "# Replace whitespace to \"%20\""
   ]
  },
  {
   "cell_type": "markdown",
   "metadata": {},
   "source": [
    "str.strip().replace(\" \", \"%20\")"
   ]
  },
  {
   "cell_type": "code",
   "execution_count": 1,
   "metadata": {
    "collapsed": true
   },
   "outputs": [],
   "source": [
    "import unittest\n",
    "\"\"\"\n",
    "replace space with %20\n",
    "ex)\"hey how are you    \"\n",
    "return hey%20how%20are%20you\n",
    "\"\"\"\n",
    "\n",
    "def encode_space(str,length):\n",
    "    return str.strip().replace(\" \", \"%20\")\n",
    "\n",
    "class encode_space_test(unittest.TestCase):\n",
    "    def test(self):\n",
    "        self.assertEqual(\"hey%20how%20are%20you\",encode_space(\"hey how are you   \",18))"
   ]
  },
  {
   "cell_type": "code",
   "execution_count": 3,
   "metadata": {},
   "outputs": [
    {
     "data": {
      "text/plain": [
       "\"I'm%20fine%20thank%20you.\""
      ]
     },
     "execution_count": 3,
     "metadata": {},
     "output_type": "execute_result"
    }
   ],
   "source": [
    "encode_space(\"I'm fine thank you.\", \"%20\")"
   ]
  }
 ],
 "metadata": {
  "kernelspec": {
   "display_name": "Python [Root]",
   "language": "python",
   "name": "Python [Root]"
  },
  "language_info": {
   "codemirror_mode": {
    "name": "ipython",
    "version": 3
   },
   "file_extension": ".py",
   "mimetype": "text/x-python",
   "name": "python",
   "nbconvert_exporter": "python",
   "pygments_lexer": "ipython3",
   "version": "3.5.3"
  }
 },
 "nbformat": 4,
 "nbformat_minor": 2
}
