{
 "cells": [
  {
   "cell_type": "markdown",
   "metadata": {},
   "source": [
    "## Remove duplicate data in linked-list"
   ]
  },
  {
   "cell_type": "code",
   "execution_count": 1,
   "metadata": {
    "collapsed": true
   },
   "outputs": [],
   "source": [
    "__author__ = 'Minsuk Heo'\n",
    "\"\"\"\n",
    "Linked List\n",
    "Delete Duplicate from linked list\n",
    "\"\"\"\n",
    "import unittest\n",
    "\n",
    "class Node:\n",
    "    def __init__(self, item):\n",
    "        self.val = item\n",
    "        self.next = None\n",
    "\n",
    "class LinkedList:\n",
    "    def __init__(self, item):\n",
    "        self.head = Node(item)\n",
    "\n",
    "    def add(self, item):\n",
    "        cur = self.head\n",
    "        while cur.next is not None:\n",
    "            cur = cur.next\n",
    "        cur.next = Node(item)\n",
    "\n",
    "    def delete_duplicate(self):\n",
    "        cur = self.head\n",
    "        dict = {}\n",
    "        prev = None\n",
    "        while cur is not None:\n",
    "            if cur.val in dict:\n",
    "                prev.next = cur.next\n",
    "            else:\n",
    "                dict[cur.val]= True\n",
    "                prev = cur\n",
    "            cur = cur.next\n",
    "\n",
    "    def printlist(self):\n",
    "        cur = self.head\n",
    "        res = []\n",
    "        while cur is not None:\n",
    "            res.append(cur.val)\n",
    "            cur = cur.next\n",
    "        return str(res)\n",
    "\n",
    "class LinkedListTest(unittest.TestCase):\n",
    "    def test(self):\n",
    "        ll = LinkedList(3)\n",
    "        ll.add(4)\n",
    "        ll.add(5)\n",
    "        ll.add(6)\n",
    "        ll.add(4)\n",
    "        ll.add(7)\n",
    "        ll.add(4)\n",
    "        ll.add(6)\n",
    "        ll.add(6)\n",
    "        ll.delete_duplicate()\n",
    "        self.assertEqual(\"[3, 4, 5, 6, 7]\", ll.printlist())"
   ]
  },
  {
   "cell_type": "code",
   "execution_count": null,
   "metadata": {
    "collapsed": true
   },
   "outputs": [],
   "source": []
  }
 ],
 "metadata": {
  "kernelspec": {
   "display_name": "Python [Root]",
   "language": "python",
   "name": "Python [Root]"
  },
  "language_info": {
   "codemirror_mode": {
    "name": "ipython",
    "version": 3
   },
   "file_extension": ".py",
   "mimetype": "text/x-python",
   "name": "python",
   "nbconvert_exporter": "python",
   "pygments_lexer": "ipython3",
   "version": "3.5.3"
  }
 },
 "nbformat": 4,
 "nbformat_minor": 2
}
