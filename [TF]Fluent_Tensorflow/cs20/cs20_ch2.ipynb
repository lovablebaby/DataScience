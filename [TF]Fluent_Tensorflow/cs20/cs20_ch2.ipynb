{
 "cells": [
  {
   "cell_type": "markdown",
   "metadata": {},
   "source": [
    "# Lecture 2 : Operations"
   ]
  },
  {
   "cell_type": "markdown",
   "metadata": {},
   "source": [
    "### setup"
   ]
  },
  {
   "cell_type": "code",
   "execution_count": 1,
   "metadata": {},
   "outputs": [
    {
     "name": "stdout",
     "output_type": "stream",
     "text": [
      "1.2.0\n"
     ]
    }
   ],
   "source": [
    "import os, sys\n",
    "import numpy as np\n",
    "import matplotlib.pyplot as plt\n",
    "import tensorflow as tf\n",
    "%matplotlib inline\n",
    "\n",
    "print(tf.__version__)\n",
    "sess_config = tf.ConfigProto(gpu_options=tf.GPUOptions(allow_growth=True))"
   ]
  },
  {
   "cell_type": "markdown",
   "metadata": {},
   "source": [
    "## 1. Fun with Tensorboard"
   ]
  },
  {
   "cell_type": "code",
   "execution_count": 2,
   "metadata": {},
   "outputs": [
    {
     "name": "stdout",
     "output_type": "stream",
     "text": [
      "Tensor(\"Const:0\", shape=(), dtype=int32) Tensor(\"Const_1:0\", shape=(), dtype=int32) Tensor(\"Add:0\", shape=(), dtype=int32)\n",
      "5\n"
     ]
    }
   ],
   "source": [
    "# Nodes: operators, variables, and constants \n",
    "# Edges: tensors\n",
    "\n",
    "a = tf.constant(2)\n",
    "b = tf.constant(3)\n",
    "x = tf.add(a,b)\n",
    "print(a, b, x)\n",
    "with tf.Session(config = sess_config) as sess:\n",
    "    print(sess.run(x))"
   ]
  },
  {
   "cell_type": "code",
   "execution_count": 3,
   "metadata": {},
   "outputs": [
    {
     "name": "stdout",
     "output_type": "stream",
     "text": [
      "5\n"
     ]
    }
   ],
   "source": [
    "# to visualizer above program with Tensorboard\n",
    "\n",
    "tf.reset_default_graph()\n",
    "\n",
    "a = tf.constant(2)\n",
    "b = tf.constant(3)\n",
    "x = tf.add(a,b)\n",
    "\n",
    "# Create the summary writer after graph definition and before running your\n",
    "# session\n",
    "writer = tf.summary.FileWriter(logdir = '../graphs/lecture02/add_example',\n",
    "                      graph = tf.get_default_graph())\n",
    "writer.close()\n",
    "with tf.Session(config = sess_config) as sess:\n",
    "    print(sess.run(x))"
   ]
  },
  {
   "cell_type": "markdown",
   "metadata": {},
   "source": [
    "#### 텐서보드 실행법\n",
    "\n",
    "로그파일을 실행 후, 터미널을 켜서 아래의 코드를 실행\n",
    "\n",
    "\n",
    "```$ python [my_program.py]\n",
    "$ tensorboard --logdir=\"logdir\" --port 6006 ```"
   ]
  },
  {
   "cell_type": "markdown",
   "metadata": {},
   "source": [
    "## 2. Constant op"
   ]
  },
  {
   "cell_type": "code",
   "execution_count": 4,
   "metadata": {},
   "outputs": [
    {
     "name": "stdout",
     "output_type": "stream",
     "text": [
      "Tensor(\"vector:0\", shape=(2,), dtype=int32)\n",
      "[2 2]\n"
     ]
    }
   ],
   "source": [
    "# constant of 1-d tensor (vector type)\n",
    "\n",
    "a = tf.constant([2,2], name = 'vector')\n",
    "print(a)\n",
    "with tf.Session(config = sess_config) as sess:\n",
    "    print(sess.run(a))"
   ]
  },
  {
   "cell_type": "code",
   "execution_count": 5,
   "metadata": {},
   "outputs": [
    {
     "name": "stdout",
     "output_type": "stream",
     "text": [
      "Tensor(\"matrix:0\", shape=(2, 2), dtype=int32)\n",
      "[[0 1]\n",
      " [2 3]]\n"
     ]
    }
   ],
   "source": [
    "# constant of 2x2 tensor (matrix type)\n",
    "\n",
    "b = tf.constant([[0,1], [2,3]], name = 'matrix')\n",
    "print(b)\n",
    "\n",
    "with tf.Session(config = sess_config) as sess:\n",
    "    print(sess.run(b))"
   ]
  },
  {
   "cell_type": "code",
   "execution_count": 6,
   "metadata": {},
   "outputs": [
    {
     "name": "stdout",
     "output_type": "stream",
     "text": [
      "Tensor(\"zeros:0\", shape=(2, 3), dtype=int32)\n",
      "[[0 0 0]\n",
      " [0 0 0]]\n"
     ]
    }
   ],
   "source": [
    "# create a tensor of shape and all elements are zeros -> tf.zeros\n",
    "\n",
    "print(tf.zeros(shape = [2,3], dtype = tf.int32))\n",
    "with tf.Session(config = sess_config) as sess:\n",
    "    print(sess.run(tf.zeros(shape = [2,3], dtype = tf.int32)))"
   ]
  },
  {
   "cell_type": "code",
   "execution_count": 7,
   "metadata": {},
   "outputs": [
    {
     "name": "stdout",
     "output_type": "stream",
     "text": [
      "Tensor(\"zeros_like:0\", shape=(3, 2), dtype=int32)\n",
      "[[0 0]\n",
      " [0 0]\n",
      " [0 0]]\n"
     ]
    }
   ],
   "source": [
    "# create a tensor of shape and type as the input_tensor but all elements are zore.\n",
    "\n",
    "input_tensor = [[0,1], [2,3], [4,5]]\n",
    "print(tf.zeros_like(input_tensor))\n",
    "with tf.Session(config = sess_config) as sess:\n",
    "    print(sess.run(tf.zeros_like(input_tensor)))"
   ]
  },
  {
   "cell_type": "markdown",
   "metadata": {},
   "source": [
    "크기를 튜플로 명시하지 않고, 다른 배열과 같은 크기의 배열을 생성하고 싶을 때 zeros_like를 사용"
   ]
  },
  {
   "cell_type": "code",
   "execution_count": 8,
   "metadata": {},
   "outputs": [
    {
     "name": "stdout",
     "output_type": "stream",
     "text": [
      "Tensor(\"ones:0\", shape=(2, 3), dtype=int32)\n",
      "[[1 1 1]\n",
      " [1 1 1]]\n"
     ]
    }
   ],
   "source": [
    "# create a tensor of shape and all elements are ones\n",
    "print(tf.ones(shape = [2,3], dtype = tf.int32))\n",
    "with tf.Session(config = sess_config) as sess:\n",
    "    print(sess.run(tf.ones(shape = [2,3], dtype = tf.int32)))"
   ]
  },
  {
   "cell_type": "code",
   "execution_count": 9,
   "metadata": {},
   "outputs": [
    {
     "name": "stdout",
     "output_type": "stream",
     "text": [
      "Tensor(\"ones_like:0\", shape=(3, 2), dtype=int32)\n",
      "[[1 1]\n",
      " [1 1]\n",
      " [1 1]]\n"
     ]
    }
   ],
   "source": [
    "# create a tensor of shape and type (unless type is specified) as the input_tensor but all elements are ones.\n",
    "\n",
    "print(tf.ones_like(input_tensor))\n",
    "with tf.Session(config = sess_config) as sess:\n",
    "    print(sess.run(tf.ones_like(input_tensor)))"
   ]
  },
  {
   "cell_type": "code",
   "execution_count": 10,
   "metadata": {},
   "outputs": [
    {
     "name": "stdout",
     "output_type": "stream",
     "text": [
      "Tensor(\"Fill:0\", shape=(2, 3), dtype=int32)\n",
      "[[8 8 8]\n",
      " [8 8 8]]\n"
     ]
    }
   ],
   "source": [
    "# create a tensor filled with a scalar value.\n",
    "\n",
    "print(tf.fill([2,3],8))\n",
    "with tf.Session(config = sess_config) as sess:\n",
    "    print(sess.run(tf.fill([2,3], 8)))"
   ]
  },
  {
   "cell_type": "code",
   "execution_count": 11,
   "metadata": {},
   "outputs": [
    {
     "name": "stdout",
     "output_type": "stream",
     "text": [
      "Tensor(\"LinSpace:0\", shape=(4,), dtype=float32)\n",
      "[10. 11. 12. 13.]\n"
     ]
    }
   ],
   "source": [
    "'''\n",
    "create a sequence of num evenly-spaced values are generated beginning at start. If num >\n",
    "1, the values in the sequence increase by (stop - start) / (num - 1), so that the last one\n",
    "is exactly stop. comparable to but slightly different from numpy.linspace\n",
    "'''\n",
    "\n",
    "print(tf.lin_space(10., 13., 4))\n",
    "with tf.Session(config = sess_config) as sess:\n",
    "    print(sess.run(tf.lin_space(10., 13., 4)))"
   ]
  },
  {
   "cell_type": "markdown",
   "metadata": {},
   "source": [
    "numpy.linspace : 선형 구간을 지정한 수 만큼 분할한다."
   ]
  },
  {
   "cell_type": "code",
   "execution_count": 12,
   "metadata": {},
   "outputs": [
    {
     "name": "stdout",
     "output_type": "stream",
     "text": [
      "Tensor(\"range:0\", shape=(5,), dtype=int32)\n",
      "[0 1 2 3 4]\n"
     ]
    }
   ],
   "source": [
    "# create a sequence of numbers that begins at start and extends \n",
    "# by increments of delta up to\n",
    "# but not including limit\n",
    "print(tf.range(5)) \n",
    "with tf.Session(config = sess_config) as sess:\n",
    "    print(sess.run(tf.range(5)))\n",
    "    \n",
    "    # TensorFlow sequences are not iterable"
   ]
  },
  {
   "cell_type": "code",
   "execution_count": 13,
   "metadata": {},
   "outputs": [
    {
     "name": "stdout",
     "output_type": "stream",
     "text": [
      "[ 3  6  9 12 15]\n",
      "[3.  2.5 2.  1.5]\n",
      "[0 1 2 3 4]\n"
     ]
    }
   ],
   "source": [
    "with tf.Session(config = sess_config) as sess:\n",
    "    print(sess.run(tf.range(3, 18, 3)))\n",
    "    print(sess.run(tf.range(3, 1, -.5)))\n",
    "    print(sess.run(tf.range(5)))"
   ]
  },
  {
   "cell_type": "markdown",
   "metadata": {},
   "source": [
    "tf.range(3, 18, 3) -> (시작, 끝(미포함), 단위)"
   ]
  },
  {
   "cell_type": "code",
   "execution_count": 14,
   "metadata": {},
   "outputs": [
    {
     "ename": "TypeError",
     "evalue": "'Tensor' object is not iterable.",
     "output_type": "error",
     "traceback": [
      "\u001b[0;31m---------------------------------------------------------------------------\u001b[0m",
      "\u001b[0;31mTypeError\u001b[0m                                 Traceback (most recent call last)",
      "\u001b[0;32m<ipython-input-14-b1a040fb85ad>\u001b[0m in \u001b[0;36m<module>\u001b[0;34m()\u001b[0m\n\u001b[0;32m----> 1\u001b[0;31m \u001b[0;32mfor\u001b[0m \u001b[0m_\u001b[0m \u001b[0;32min\u001b[0m \u001b[0mtf\u001b[0m\u001b[0;34m.\u001b[0m\u001b[0mrange\u001b[0m\u001b[0;34m(\u001b[0m\u001b[0;36m4\u001b[0m\u001b[0;34m)\u001b[0m\u001b[0;34m:\u001b[0m\u001b[0;34m\u001b[0m\u001b[0m\n\u001b[0m\u001b[1;32m      2\u001b[0m     \u001b[0mprint\u001b[0m\u001b[0;34m(\u001b[0m\u001b[0m_\u001b[0m\u001b[0;34m)\u001b[0m\u001b[0;34m\u001b[0m\u001b[0m\n",
      "\u001b[0;32m~/anaconda/lib/python3.5/site-packages/tensorflow/python/framework/ops.py\u001b[0m in \u001b[0;36m__iter__\u001b[0;34m(self)\u001b[0m\n\u001b[1;32m    539\u001b[0m       \u001b[0mTypeError\u001b[0m\u001b[0;34m:\u001b[0m \u001b[0mwhen\u001b[0m \u001b[0minvoked\u001b[0m\u001b[0;34m.\u001b[0m\u001b[0;34m\u001b[0m\u001b[0m\n\u001b[1;32m    540\u001b[0m     \"\"\"\n\u001b[0;32m--> 541\u001b[0;31m     \u001b[0;32mraise\u001b[0m \u001b[0mTypeError\u001b[0m\u001b[0;34m(\u001b[0m\u001b[0;34m\"'Tensor' object is not iterable.\"\u001b[0m\u001b[0;34m)\u001b[0m\u001b[0;34m\u001b[0m\u001b[0m\n\u001b[0m\u001b[1;32m    542\u001b[0m \u001b[0;34m\u001b[0m\u001b[0m\n\u001b[1;32m    543\u001b[0m   \u001b[0;32mdef\u001b[0m \u001b[0m__bool__\u001b[0m\u001b[0;34m(\u001b[0m\u001b[0mself\u001b[0m\u001b[0;34m)\u001b[0m\u001b[0;34m:\u001b[0m\u001b[0;34m\u001b[0m\u001b[0m\n",
      "\u001b[0;31mTypeError\u001b[0m: 'Tensor' object is not iterable."
     ]
    }
   ],
   "source": [
    "for _ in tf.range(4):\n",
    "    print(_)"
   ]
  },
  {
   "cell_type": "markdown",
   "metadata": {},
   "source": [
    "그 외에도\n",
    "\n",
    "```tf.random_normal\n",
    "tf.truncated_normal\n",
    "tf.random_uniform\n",
    "tf.random_shuffle\n",
    "tf.random_crop\n",
    "tf.multinomial\n",
    "tf.random_gamma\n",
    "tf.set_random_seed```\n",
    "\n",
    "가 존재한다. \n",
    "\n",
    "[함수 링크](\"https://www.tensorflow.org/api_guides/python/constant_op\")"
   ]
  },
  {
   "cell_type": "markdown",
   "metadata": {},
   "source": [
    "### Pass Math operation, data type"
   ]
  },
  {
   "cell_type": "markdown",
   "metadata": {},
   "source": [
    "[참고][Math operation](\"https://www.tensorflow.org/api_docs/python/tf/math/divide\")"
   ]
  },
  {
   "cell_type": "markdown",
   "metadata": {},
   "source": [
    "[참고] data type\n",
    "\n",
    "\n",
    "```tf.float16: 16-bit half-precision floating-point.\n",
    "tf.float32: 32-bit single-precision floating-point.\n",
    "tf.float64: 64-bit double-precision floating-point.\n",
    "tf.bfloat16: 16-bit truncated floating-point.\n",
    "tf.complex64: 64-bit single-precision complex.\n",
    "tf.complex128: 128-bit double-precision complex.\n",
    "tf.int8: 8-bit signed integer.\n",
    "tf.uint8: 8-bit unsigned integer.\n",
    "tf.uint16: 16-bit unsigned integer.\n",
    "tf.uint32: 32-bit unsigned integer.\n",
    "tf.uint64: 64-bit unsigned integer.\n",
    "tf.int16: 16-bit signed integer.\n",
    "tf.int32: 32-bit signed integer.\n",
    "tf.int64: 64-bit signed integer.\n",
    "tf.bool: Boolean.\n",
    "tf.string: String.\n",
    "tf.qint8: Quantized 8-bit signed integer.\n",
    "tf.quint8: Quantized 8-bit unsigned integer.\n",
    "tf.qint16: Quantized 16-bit signed integer.\n",
    "tf.quint16: Quantized 16-bit unsigned integer.\n",
    "tf.qint32: Quantized 32-bit signed integer.\n",
    "tf.resource: Handle to a mutable resource.\n",
    "tf.variant: Values of arbitrary types.```"
   ]
  },
  {
   "cell_type": "markdown",
   "metadata": {},
   "source": [
    "## 5. Variables"
   ]
  },
  {
   "cell_type": "code",
   "execution_count": 15,
   "metadata": {
    "collapsed": true
   },
   "outputs": [],
   "source": [
    "tf.reset_default_graph()"
   ]
  },
  {
   "cell_type": "code",
   "execution_count": 16,
   "metadata": {
    "collapsed": true
   },
   "outputs": [],
   "source": [
    "# Create variables\n",
    "# Note that when we use tf.constant as an initializer,\n",
    "# we don't need to provide shape\n",
    "\n",
    "s = tf.get_variable(name = 'scalar',\n",
    "                    initializer = tf.constant(2))\n",
    "m = tf.get_variable(name = 'matrix',\n",
    "                    initializer = tf.constant([[0, 1], [2, 3]]))\n",
    "W = tf.get_variable(name = 'big_matrix', shape = [784, 10],\n",
    "                    initializer = tf.zeros_initializer())"
   ]
  },
  {
   "cell_type": "code",
   "execution_count": 17,
   "metadata": {},
   "outputs": [
    {
     "name": "stdout",
     "output_type": "stream",
     "text": [
      "[b'scalar' b'matrix' b'big_matrix']\n"
     ]
    }
   ],
   "source": [
    "# Initialize variables\n",
    "with tf.Session(config = sess_config) as sess:\n",
    "    print(sess.run(tf.report_uninitialized_variables()))"
   ]
  },
  {
   "cell_type": "code",
   "execution_count": 18,
   "metadata": {},
   "outputs": [
    {
     "name": "stdout",
     "output_type": "stream",
     "text": [
      "[]\n"
     ]
    }
   ],
   "source": [
    "with tf.Session(config = sess_config) as sess:\n",
    "    sess.run(tf.global_variables_initializer())\n",
    "    print(sess.run(tf.report_uninitialized_variables()))"
   ]
  },
  {
   "cell_type": "markdown",
   "metadata": {},
   "source": [
    "변수 초기화 작업"
   ]
  },
  {
   "cell_type": "code",
   "execution_count": 19,
   "metadata": {},
   "outputs": [
    {
     "name": "stdout",
     "output_type": "stream",
     "text": [
      "10\n"
     ]
    }
   ],
   "source": [
    "# Interesting Assign example\n",
    "\n",
    "tf.reset_default_graph()\n",
    "W = tf.Variable(10)\n",
    "W.assign(100)\n",
    "\n",
    "with tf.Session(config = sess_config) as sess:\n",
    "    sess.run(W.initializer)\n",
    "    print(W.eval())"
   ]
  },
  {
   "cell_type": "code",
   "execution_count": 20,
   "metadata": {},
   "outputs": [
    {
     "name": "stdout",
     "output_type": "stream",
     "text": [
      "100\n"
     ]
    }
   ],
   "source": [
    "tf.reset_default_graph()\n",
    "W = tf.Variable(10)\n",
    "assign_op = W.assign(100)\n",
    "\n",
    "with tf.Session(config = sess_config) as sess:\n",
    "    sess.run(assign_op)\n",
    "    print(W.eval())"
   ]
  },
  {
   "cell_type": "markdown",
   "metadata": {},
   "source": [
    "잘 몰라서 텐서플로우 코리아 코드\n",
    "\n",
    "```\n",
    "# 값이 0인 스칼라로 초기화된 변수를 만듭니다.\n",
    "# Create a Variable, that will be initialized to the scalar value 0.\n",
    "state = tf.Variable(0, name=\"counter\")\n",
    "\n",
    "# 'state'에 1을 더하는 작업(op)을 만듭니다.\n",
    "# Create an Op to add one to `state`.\n",
    "\n",
    "one = tf.constant(1)\n",
    "new_value = tf.add(state, one)\n",
    "update = tf.assign(state, new_value)\n",
    "\n",
    "# 그래프를 한 번 작동시킨 후에는 'init' 작업(op)을 실행해서 변수를 초기화해야\n",
    "# 합니다. 먼저 'init' 작업(op)을 추가해 봅시다.\n",
    "# Variables must be initialized by running an `init` Op after having\n",
    "# launched the graph.  We first have to add the `init` Op to the graph.\n",
    "init_op = tf.global_variables_initializer()\n",
    "\n",
    "# graph와 작업(op)들을 실행시킵니다.\n",
    "# Launch the graph and run the ops.\n",
    "with tf.Session() as sess:\n",
    "  # 'init' 작업(op)을 실행합니다.\n",
    "  # Run the 'init' op\n",
    "  sess.run(init_op)\n",
    "  # 'state'의 시작값을 출력합니다.\n",
    "  # Print the initial value of 'state'\n",
    "  print(sess.run(state))\n",
    "  # 'state'값을 업데이트하고 출력하는 작업(op)을 실행합니다.\n",
    "  # Run the op that updates 'state' and print 'state'.\n",
    "  for _ in range(3):\n",
    "    sess.run(update)\n",
    "    print(sess.run(state))\n",
    "\n",
    "# output:\n",
    "\n",
    "# 0\n",
    "# 1\n",
    "# 2\n",
    "# 3\n",
    "```"
   ]
  },
  {
   "cell_type": "code",
   "execution_count": 23,
   "metadata": {},
   "outputs": [
    {
     "name": "stdout",
     "output_type": "stream",
     "text": [
      "<tf.Variable 'weights:0' shape=(2, 2) dtype=float32_ref> [[1. 1.]\n",
      " [2. 2.]]\n",
      "<tf.Variable 'weights:0' shape=(2, 2) dtype=float32_ref> [[1. 1.]\n",
      " [2. 2.]]\n"
     ]
    }
   ],
   "source": [
    "tf.reset_default_graph()\n",
    "W = tf.get_variable(name = 'weights', initializer = tf.constant([[1.,1.],[2.,2.]]))\n",
    "tf.get_variable_scope().reuse_variables()\n",
    "w = tf.get_variable(name = 'weights')\n",
    "writer = tf.summary.FileWriter(logdir = '../graphs/lecture02/get_variables',\n",
    "                      graph = tf.get_default_graph())\n",
    "writer.close()\n",
    "\n",
    "with tf.Session(config = sess_config) as sess:\n",
    "    sess.run(tf.global_variables_initializer())\n",
    "    print(W, sess.run(W))\n",
    "    print(w, sess.run(w))"
   ]
  },
  {
   "cell_type": "markdown",
   "metadata": {},
   "source": [
    "## 6. Interactive Session"
   ]
  },
  {
   "cell_type": "markdown",
   "metadata": {},
   "source": [
    "## 7. Control Dependencies"
   ]
  },
  {
   "cell_type": "markdown",
   "metadata": {},
   "source": [
    "## 8. Importing Data"
   ]
  },
  {
   "cell_type": "code",
   "execution_count": 24,
   "metadata": {},
   "outputs": [
    {
     "name": "stdout",
     "output_type": "stream",
     "text": [
      "[6. 7. 8.]\n"
     ]
    }
   ],
   "source": [
    "tf.reset_default_graph()\n",
    "a = tf.placeholder(dtype = tf.float32, shape = [3])\n",
    "b = tf.constant(value = [5, 5, 5], dtype = tf.float32)\n",
    "c = a + b\n",
    "\n",
    "writer = tf.summary.FileWriter(logdir = '../graphs/lecture02/placeholder',\n",
    "                               graph = tf.get_default_graph())\n",
    "\n",
    "with tf.Session(config = sess_config) as sess:\n",
    "    print(sess.run(c, feed_dict = {a : [1.,2.,3.]}))"
   ]
  },
  {
   "cell_type": "code",
   "execution_count": 25,
   "metadata": {},
   "outputs": [
    {
     "name": "stdout",
     "output_type": "stream",
     "text": [
      "21\n",
      "45\n"
     ]
    }
   ],
   "source": [
    "tf.reset_default_graph()\n",
    "a = tf.add(2, 5)\n",
    "b = tf.multiply(a, 3)\n",
    "\n",
    "with tf.Session(config = sess_config) as sess:\n",
    "    print(sess.run(b))\n",
    "    print(sess.run(b, feed_dict={a : 15}))"
   ]
  },
  {
   "cell_type": "code",
   "execution_count": 26,
   "metadata": {},
   "outputs": [
    {
     "name": "stdout",
     "output_type": "stream",
     "text": [
      "True True\n"
     ]
    }
   ],
   "source": [
    "with tf.Session(config = sess_config) as sess:\n",
    "    print(sess.graph.is_feedable(a), sess.graph.is_feedable(b))"
   ]
  },
  {
   "cell_type": "markdown",
   "metadata": {},
   "source": [
    "## 9. The trap of lazy loading"
   ]
  },
  {
   "cell_type": "markdown",
   "metadata": {},
   "source": [
    "lazying loading : 지연 로딩(?). 컴퓨터 디자인 패턴중의 하나\n",
    "\n",
    "실제로 접근할 때만 초기화해서 불러오게 하는 것"
   ]
  },
  {
   "cell_type": "code",
   "execution_count": 28,
   "metadata": {},
   "outputs": [
    {
     "name": "stdout",
     "output_type": "stream",
     "text": [
      "node {\n",
      "  name: \"Const\"\n",
      "  op: \"Const\"\n",
      "  attr {\n",
      "    key: \"dtype\"\n",
      "    value {\n",
      "      type: DT_INT32\n",
      "    }\n",
      "  }\n",
      "  attr {\n",
      "    key: \"value\"\n",
      "    value {\n",
      "      tensor {\n",
      "        dtype: DT_INT32\n",
      "        tensor_shape {\n",
      "        }\n",
      "        int_val: 10\n",
      "      }\n",
      "    }\n",
      "  }\n",
      "}\n",
      "node {\n",
      "  name: \"x\"\n",
      "  op: \"VariableV2\"\n",
      "  attr {\n",
      "    key: \"container\"\n",
      "    value {\n",
      "      s: \"\"\n",
      "    }\n",
      "  }\n",
      "  attr {\n",
      "    key: \"dtype\"\n",
      "    value {\n",
      "      type: DT_INT32\n",
      "    }\n",
      "  }\n",
      "  attr {\n",
      "    key: \"shape\"\n",
      "    value {\n",
      "      shape {\n",
      "      }\n",
      "    }\n",
      "  }\n",
      "  attr {\n",
      "    key: \"shared_name\"\n",
      "    value {\n",
      "      s: \"\"\n",
      "    }\n",
      "  }\n",
      "}\n",
      "node {\n",
      "  name: \"x/Assign\"\n",
      "  op: \"Assign\"\n",
      "  input: \"x\"\n",
      "  input: \"Const\"\n",
      "  attr {\n",
      "    key: \"T\"\n",
      "    value {\n",
      "      type: DT_INT32\n",
      "    }\n",
      "  }\n",
      "  attr {\n",
      "    key: \"_class\"\n",
      "    value {\n",
      "      list {\n",
      "        s: \"loc:@x\"\n",
      "      }\n",
      "    }\n",
      "  }\n",
      "  attr {\n",
      "    key: \"use_locking\"\n",
      "    value {\n",
      "      b: true\n",
      "    }\n",
      "  }\n",
      "  attr {\n",
      "    key: \"validate_shape\"\n",
      "    value {\n",
      "      b: true\n",
      "    }\n",
      "  }\n",
      "}\n",
      "node {\n",
      "  name: \"x/read\"\n",
      "  op: \"Identity\"\n",
      "  input: \"x\"\n",
      "  attr {\n",
      "    key: \"T\"\n",
      "    value {\n",
      "      type: DT_INT32\n",
      "    }\n",
      "  }\n",
      "  attr {\n",
      "    key: \"_class\"\n",
      "    value {\n",
      "      list {\n",
      "        s: \"loc:@x\"\n",
      "      }\n",
      "    }\n",
      "  }\n",
      "}\n",
      "node {\n",
      "  name: \"Const_1\"\n",
      "  op: \"Const\"\n",
      "  attr {\n",
      "    key: \"dtype\"\n",
      "    value {\n",
      "      type: DT_INT32\n",
      "    }\n",
      "  }\n",
      "  attr {\n",
      "    key: \"value\"\n",
      "    value {\n",
      "      tensor {\n",
      "        dtype: DT_INT32\n",
      "        tensor_shape {\n",
      "        }\n",
      "        int_val: 20\n",
      "      }\n",
      "    }\n",
      "  }\n",
      "}\n",
      "node {\n",
      "  name: \"y\"\n",
      "  op: \"VariableV2\"\n",
      "  attr {\n",
      "    key: \"container\"\n",
      "    value {\n",
      "      s: \"\"\n",
      "    }\n",
      "  }\n",
      "  attr {\n",
      "    key: \"dtype\"\n",
      "    value {\n",
      "      type: DT_INT32\n",
      "    }\n",
      "  }\n",
      "  attr {\n",
      "    key: \"shape\"\n",
      "    value {\n",
      "      shape {\n",
      "      }\n",
      "    }\n",
      "  }\n",
      "  attr {\n",
      "    key: \"shared_name\"\n",
      "    value {\n",
      "      s: \"\"\n",
      "    }\n",
      "  }\n",
      "}\n",
      "node {\n",
      "  name: \"y/Assign\"\n",
      "  op: \"Assign\"\n",
      "  input: \"y\"\n",
      "  input: \"Const_1\"\n",
      "  attr {\n",
      "    key: \"T\"\n",
      "    value {\n",
      "      type: DT_INT32\n",
      "    }\n",
      "  }\n",
      "  attr {\n",
      "    key: \"_class\"\n",
      "    value {\n",
      "      list {\n",
      "        s: \"loc:@y\"\n",
      "      }\n",
      "    }\n",
      "  }\n",
      "  attr {\n",
      "    key: \"use_locking\"\n",
      "    value {\n",
      "      b: true\n",
      "    }\n",
      "  }\n",
      "  attr {\n",
      "    key: \"validate_shape\"\n",
      "    value {\n",
      "      b: true\n",
      "    }\n",
      "  }\n",
      "}\n",
      "node {\n",
      "  name: \"y/read\"\n",
      "  op: \"Identity\"\n",
      "  input: \"y\"\n",
      "  attr {\n",
      "    key: \"T\"\n",
      "    value {\n",
      "      type: DT_INT32\n",
      "    }\n",
      "  }\n",
      "  attr {\n",
      "    key: \"_class\"\n",
      "    value {\n",
      "      list {\n",
      "        s: \"loc:@y\"\n",
      "      }\n",
      "    }\n",
      "  }\n",
      "}\n",
      "node {\n",
      "  name: \"Add\"\n",
      "  op: \"Add\"\n",
      "  input: \"x/read\"\n",
      "  input: \"y/read\"\n",
      "  attr {\n",
      "    key: \"T\"\n",
      "    value {\n",
      "      type: DT_INT32\n",
      "    }\n",
      "  }\n",
      "}\n",
      "node {\n",
      "  name: \"init\"\n",
      "  op: \"NoOp\"\n",
      "  input: \"^x/Assign\"\n",
      "  input: \"^y/Assign\"\n",
      "}\n",
      "versions {\n",
      "  producer: 22\n",
      "}\n",
      "\n"
     ]
    }
   ],
   "source": [
    "1# normal loading\n",
    "tf.reset_default_graph()\n",
    "x = tf.get_variable(name = 'x', initializer = tf.constant(10))\n",
    "y = tf.get_variable(name = 'y', initializer = tf.constant(20))\n",
    "z = tf.add(x,y)\n",
    "\n",
    "with tf.Session(config = sess_config) as sess:\n",
    "    sess.run(tf.global_variables_initializer())\n",
    "    writer = tf.summary.FileWriter(logdir = '../graphs/lecture02/normal_loading',\n",
    "                                   graph = tf.get_default_graph())\n",
    "    \n",
    "    for _ in range(3):\n",
    "        sess.run(z)\n",
    "    else:\n",
    "        print(tf.get_default_graph().as_graph_def())\n",
    "        writer.close()"
   ]
  },
  {
   "cell_type": "code",
   "execution_count": 29,
   "metadata": {},
   "outputs": [
    {
     "name": "stdout",
     "output_type": "stream",
     "text": [
      "node {\n",
      "  name: \"Const\"\n",
      "  op: \"Const\"\n",
      "  attr {\n",
      "    key: \"dtype\"\n",
      "    value {\n",
      "      type: DT_INT32\n",
      "    }\n",
      "  }\n",
      "  attr {\n",
      "    key: \"value\"\n",
      "    value {\n",
      "      tensor {\n",
      "        dtype: DT_INT32\n",
      "        tensor_shape {\n",
      "        }\n",
      "        int_val: 10\n",
      "      }\n",
      "    }\n",
      "  }\n",
      "}\n",
      "node {\n",
      "  name: \"x\"\n",
      "  op: \"VariableV2\"\n",
      "  attr {\n",
      "    key: \"container\"\n",
      "    value {\n",
      "      s: \"\"\n",
      "    }\n",
      "  }\n",
      "  attr {\n",
      "    key: \"dtype\"\n",
      "    value {\n",
      "      type: DT_INT32\n",
      "    }\n",
      "  }\n",
      "  attr {\n",
      "    key: \"shape\"\n",
      "    value {\n",
      "      shape {\n",
      "      }\n",
      "    }\n",
      "  }\n",
      "  attr {\n",
      "    key: \"shared_name\"\n",
      "    value {\n",
      "      s: \"\"\n",
      "    }\n",
      "  }\n",
      "}\n",
      "node {\n",
      "  name: \"x/Assign\"\n",
      "  op: \"Assign\"\n",
      "  input: \"x\"\n",
      "  input: \"Const\"\n",
      "  attr {\n",
      "    key: \"T\"\n",
      "    value {\n",
      "      type: DT_INT32\n",
      "    }\n",
      "  }\n",
      "  attr {\n",
      "    key: \"_class\"\n",
      "    value {\n",
      "      list {\n",
      "        s: \"loc:@x\"\n",
      "      }\n",
      "    }\n",
      "  }\n",
      "  attr {\n",
      "    key: \"use_locking\"\n",
      "    value {\n",
      "      b: true\n",
      "    }\n",
      "  }\n",
      "  attr {\n",
      "    key: \"validate_shape\"\n",
      "    value {\n",
      "      b: true\n",
      "    }\n",
      "  }\n",
      "}\n",
      "node {\n",
      "  name: \"x/read\"\n",
      "  op: \"Identity\"\n",
      "  input: \"x\"\n",
      "  attr {\n",
      "    key: \"T\"\n",
      "    value {\n",
      "      type: DT_INT32\n",
      "    }\n",
      "  }\n",
      "  attr {\n",
      "    key: \"_class\"\n",
      "    value {\n",
      "      list {\n",
      "        s: \"loc:@x\"\n",
      "      }\n",
      "    }\n",
      "  }\n",
      "}\n",
      "node {\n",
      "  name: \"Const_1\"\n",
      "  op: \"Const\"\n",
      "  attr {\n",
      "    key: \"dtype\"\n",
      "    value {\n",
      "      type: DT_INT32\n",
      "    }\n",
      "  }\n",
      "  attr {\n",
      "    key: \"value\"\n",
      "    value {\n",
      "      tensor {\n",
      "        dtype: DT_INT32\n",
      "        tensor_shape {\n",
      "        }\n",
      "        int_val: 20\n",
      "      }\n",
      "    }\n",
      "  }\n",
      "}\n",
      "node {\n",
      "  name: \"y\"\n",
      "  op: \"VariableV2\"\n",
      "  attr {\n",
      "    key: \"container\"\n",
      "    value {\n",
      "      s: \"\"\n",
      "    }\n",
      "  }\n",
      "  attr {\n",
      "    key: \"dtype\"\n",
      "    value {\n",
      "      type: DT_INT32\n",
      "    }\n",
      "  }\n",
      "  attr {\n",
      "    key: \"shape\"\n",
      "    value {\n",
      "      shape {\n",
      "      }\n",
      "    }\n",
      "  }\n",
      "  attr {\n",
      "    key: \"shared_name\"\n",
      "    value {\n",
      "      s: \"\"\n",
      "    }\n",
      "  }\n",
      "}\n",
      "node {\n",
      "  name: \"y/Assign\"\n",
      "  op: \"Assign\"\n",
      "  input: \"y\"\n",
      "  input: \"Const_1\"\n",
      "  attr {\n",
      "    key: \"T\"\n",
      "    value {\n",
      "      type: DT_INT32\n",
      "    }\n",
      "  }\n",
      "  attr {\n",
      "    key: \"_class\"\n",
      "    value {\n",
      "      list {\n",
      "        s: \"loc:@y\"\n",
      "      }\n",
      "    }\n",
      "  }\n",
      "  attr {\n",
      "    key: \"use_locking\"\n",
      "    value {\n",
      "      b: true\n",
      "    }\n",
      "  }\n",
      "  attr {\n",
      "    key: \"validate_shape\"\n",
      "    value {\n",
      "      b: true\n",
      "    }\n",
      "  }\n",
      "}\n",
      "node {\n",
      "  name: \"y/read\"\n",
      "  op: \"Identity\"\n",
      "  input: \"y\"\n",
      "  attr {\n",
      "    key: \"T\"\n",
      "    value {\n",
      "      type: DT_INT32\n",
      "    }\n",
      "  }\n",
      "  attr {\n",
      "    key: \"_class\"\n",
      "    value {\n",
      "      list {\n",
      "        s: \"loc:@y\"\n",
      "      }\n",
      "    }\n",
      "  }\n",
      "}\n",
      "node {\n",
      "  name: \"init\"\n",
      "  op: \"NoOp\"\n",
      "  input: \"^x/Assign\"\n",
      "  input: \"^y/Assign\"\n",
      "}\n",
      "node {\n",
      "  name: \"Add\"\n",
      "  op: \"Add\"\n",
      "  input: \"x/read\"\n",
      "  input: \"y/read\"\n",
      "  attr {\n",
      "    key: \"T\"\n",
      "    value {\n",
      "      type: DT_INT32\n",
      "    }\n",
      "  }\n",
      "}\n",
      "node {\n",
      "  name: \"Add_1\"\n",
      "  op: \"Add\"\n",
      "  input: \"x/read\"\n",
      "  input: \"y/read\"\n",
      "  attr {\n",
      "    key: \"T\"\n",
      "    value {\n",
      "      type: DT_INT32\n",
      "    }\n",
      "  }\n",
      "}\n",
      "node {\n",
      "  name: \"Add_2\"\n",
      "  op: \"Add\"\n",
      "  input: \"x/read\"\n",
      "  input: \"y/read\"\n",
      "  attr {\n",
      "    key: \"T\"\n",
      "    value {\n",
      "      type: DT_INT32\n",
      "    }\n",
      "  }\n",
      "}\n",
      "versions {\n",
      "  producer: 22\n",
      "}\n",
      "\n"
     ]
    }
   ],
   "source": [
    "# lazy loading\n",
    "tf.reset_default_graph()\n",
    "x = tf.get_variable(name = 'x', initializer = tf.constant(10))\n",
    "y = tf.get_variable(name = 'y', initializer = tf.constant(20))\n",
    "\n",
    "with tf.Session(config = sess_config) as sess:\n",
    "    sess.run(tf.global_variables_initializer())\n",
    "    writer = tf.summary.FileWriter(logdir = '../graphs/lecture02/lazy_loading',\n",
    "                                   graph = sess.graph)\n",
    "    for _ in range(3):\n",
    "        sess.run(tf.add(x,y))\n",
    "    else:\n",
    "        print(tf.get_default_graph().as_graph_def())\n",
    "        writer.close()\n",
    "        "
   ]
  },
  {
   "cell_type": "code",
   "execution_count": null,
   "metadata": {
    "collapsed": true
   },
   "outputs": [],
   "source": []
  }
 ],
 "metadata": {
  "kernelspec": {
   "display_name": "Python [Root]",
   "language": "python",
   "name": "Python [Root]"
  },
  "language_info": {
   "codemirror_mode": {
    "name": "ipython",
    "version": 3
   },
   "file_extension": ".py",
   "mimetype": "text/x-python",
   "name": "python",
   "nbconvert_exporter": "python",
   "pygments_lexer": "ipython3",
   "version": "3.5.3"
  }
 },
 "nbformat": 4,
 "nbformat_minor": 2
}
