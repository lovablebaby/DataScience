{
 "cells": [
  {
   "cell_type": "markdown",
   "metadata": {},
   "source": [
    "# Survival Analysis (1)\n",
    "\n",
    "- source : lifelines documents (https://lifelines.readthedocs.io/)"
   ]
  },
  {
   "cell_type": "markdown",
   "metadata": {},
   "source": [
    "- package : lifelines"
   ]
  },
  {
   "cell_type": "code",
   "execution_count": 2,
   "metadata": {
    "collapsed": false
   },
   "outputs": [],
   "source": [
    "import pandas as pd\n",
    "import lifelines\n",
    "import matplotlib.pylab as plt\n",
    "%matplotlib inline "
   ]
  },
  {
   "cell_type": "code",
   "execution_count": 3,
   "metadata": {
    "collapsed": false
   },
   "outputs": [],
   "source": [
    "data = lifelines.datasets.load_dd()"
   ]
  },
  {
   "cell_type": "markdown",
   "metadata": {},
   "source": [
    "### political leaders\n",
    "- start : birth\n",
    "- end : retirement"
   ]
  },
  {
   "cell_type": "code",
   "execution_count": 4,
   "metadata": {
    "collapsed": false
   },
   "outputs": [
    {
     "data": {
      "text/html": [
       "<div>\n",
       "<table border=\"1\" class=\"dataframe\">\n",
       "  <thead>\n",
       "    <tr style=\"text-align: right;\">\n",
       "      <th></th>\n",
       "      <th>ctryname</th>\n",
       "      <th>cowcode2</th>\n",
       "      <th>politycode</th>\n",
       "      <th>un_region_name</th>\n",
       "      <th>un_continent_name</th>\n",
       "      <th>ehead</th>\n",
       "      <th>leaderspellreg</th>\n",
       "      <th>democracy</th>\n",
       "      <th>regime</th>\n",
       "      <th>start_year</th>\n",
       "      <th>duration</th>\n",
       "      <th>observed</th>\n",
       "    </tr>\n",
       "  </thead>\n",
       "  <tbody>\n",
       "    <tr>\n",
       "      <th>1803</th>\n",
       "      <td>Zambia</td>\n",
       "      <td>551</td>\n",
       "      <td>551.0</td>\n",
       "      <td>Eastern Africa</td>\n",
       "      <td>Africa</td>\n",
       "      <td>Levy Patrick Mwanawasa</td>\n",
       "      <td>Levy Patrick Mwanawasa.Zambia.2002.2007.Civili...</td>\n",
       "      <td>Non-democracy</td>\n",
       "      <td>Civilian Dict</td>\n",
       "      <td>2002</td>\n",
       "      <td>6</td>\n",
       "      <td>1</td>\n",
       "    </tr>\n",
       "    <tr>\n",
       "      <th>1804</th>\n",
       "      <td>Zambia</td>\n",
       "      <td>551</td>\n",
       "      <td>551.0</td>\n",
       "      <td>Eastern Africa</td>\n",
       "      <td>Africa</td>\n",
       "      <td>Rupiah Bwezani Banda</td>\n",
       "      <td>Rupiah Bwezani Banda.Zambia.2008.2008.Civilian...</td>\n",
       "      <td>Non-democracy</td>\n",
       "      <td>Civilian Dict</td>\n",
       "      <td>2008</td>\n",
       "      <td>1</td>\n",
       "      <td>0</td>\n",
       "    </tr>\n",
       "    <tr>\n",
       "      <th>1805</th>\n",
       "      <td>Zimbabwe</td>\n",
       "      <td>552</td>\n",
       "      <td>552.0</td>\n",
       "      <td>Eastern Africa</td>\n",
       "      <td>Africa</td>\n",
       "      <td>Ian Smith</td>\n",
       "      <td>Ian Smith.Zimbabwe.1965.1978.Civilian Dict</td>\n",
       "      <td>Non-democracy</td>\n",
       "      <td>Civilian Dict</td>\n",
       "      <td>1965</td>\n",
       "      <td>14</td>\n",
       "      <td>1</td>\n",
       "    </tr>\n",
       "    <tr>\n",
       "      <th>1806</th>\n",
       "      <td>Zimbabwe</td>\n",
       "      <td>552</td>\n",
       "      <td>552.0</td>\n",
       "      <td>Eastern Africa</td>\n",
       "      <td>Africa</td>\n",
       "      <td>Abel Muzorewa</td>\n",
       "      <td>Abel Muzorewa.Zimbabwe.1979.1979.Civilian Dict</td>\n",
       "      <td>Non-democracy</td>\n",
       "      <td>Civilian Dict</td>\n",
       "      <td>1979</td>\n",
       "      <td>1</td>\n",
       "      <td>1</td>\n",
       "    </tr>\n",
       "    <tr>\n",
       "      <th>1807</th>\n",
       "      <td>Zimbabwe</td>\n",
       "      <td>552</td>\n",
       "      <td>552.0</td>\n",
       "      <td>Eastern Africa</td>\n",
       "      <td>Africa</td>\n",
       "      <td>Robert Mugabe</td>\n",
       "      <td>Robert Mugabe.Zimbabwe.1980.2008.Civilian Dict</td>\n",
       "      <td>Non-democracy</td>\n",
       "      <td>Civilian Dict</td>\n",
       "      <td>1980</td>\n",
       "      <td>29</td>\n",
       "      <td>0</td>\n",
       "    </tr>\n",
       "  </tbody>\n",
       "</table>\n",
       "</div>"
      ],
      "text/plain": [
       "      ctryname  cowcode2  politycode  un_region_name un_continent_name  \\\n",
       "1803    Zambia       551       551.0  Eastern Africa            Africa   \n",
       "1804    Zambia       551       551.0  Eastern Africa            Africa   \n",
       "1805  Zimbabwe       552       552.0  Eastern Africa            Africa   \n",
       "1806  Zimbabwe       552       552.0  Eastern Africa            Africa   \n",
       "1807  Zimbabwe       552       552.0  Eastern Africa            Africa   \n",
       "\n",
       "                       ehead  \\\n",
       "1803  Levy Patrick Mwanawasa   \n",
       "1804    Rupiah Bwezani Banda   \n",
       "1805               Ian Smith   \n",
       "1806           Abel Muzorewa   \n",
       "1807           Robert Mugabe   \n",
       "\n",
       "                                         leaderspellreg      democracy  \\\n",
       "1803  Levy Patrick Mwanawasa.Zambia.2002.2007.Civili...  Non-democracy   \n",
       "1804  Rupiah Bwezani Banda.Zambia.2008.2008.Civilian...  Non-democracy   \n",
       "1805         Ian Smith.Zimbabwe.1965.1978.Civilian Dict  Non-democracy   \n",
       "1806     Abel Muzorewa.Zimbabwe.1979.1979.Civilian Dict  Non-democracy   \n",
       "1807     Robert Mugabe.Zimbabwe.1980.2008.Civilian Dict  Non-democracy   \n",
       "\n",
       "             regime  start_year  duration  observed  \n",
       "1803  Civilian Dict        2002         6         1  \n",
       "1804  Civilian Dict        2008         1         0  \n",
       "1805  Civilian Dict        1965        14         1  \n",
       "1806  Civilian Dict        1979         1         1  \n",
       "1807  Civilian Dict        1980        29         0  "
      ]
     },
     "execution_count": 4,
     "metadata": {},
     "output_type": "execute_result"
    }
   ],
   "source": [
    "data.head()\n",
    "data.tail()"
   ]
  },
  {
   "cell_type": "code",
   "execution_count": 5,
   "metadata": {
    "collapsed": true
   },
   "outputs": [],
   "source": [
    "from lifelines import KaplanMeierFitter\n",
    "kmf = KaplanMeierFitter()"
   ]
  },
  {
   "cell_type": "code",
   "execution_count": 6,
   "metadata": {
    "collapsed": false
   },
   "outputs": [
    {
     "data": {
      "text/plain": [
       "\"Parameters:\\n  event_times: an array, or pd.Series, of length n of times that\\n         the death event occured at\\n  event_observed: an array, or pd.Series, of length n -- True if\\n        the death was observed, False if the event was lost\\n        (right-censored). Defaults all True if event_observed==None\\n  timeline: set the index of the survival curve to this postively increasing array.\\n  label: a string to name the column of the estimate.\\n  alpha: the alpha value in the confidence intervals.\\n         Overrides the initializing alpha for this call to fit only.\\n\\nReturns:\\n  self, with new properties like 'survival_function_'\\n\""
      ]
     },
     "execution_count": 6,
     "metadata": {},
     "output_type": "execute_result"
    }
   ],
   "source": [
    "# kaplan-meier \n",
    "\n",
    "# KaplanMeierFitter.fit(event_times, event_observed=None,\n",
    "#                      timeline=None, label='KM-estimate',\n",
    "#                      alpha=None)\n",
    "\"\"\"Parameters:\n",
    "  event_times: an array, or pd.Series, of length n of times that\n",
    "         the death event occured at\n",
    "  event_observed: an array, or pd.Series, of length n -- True if\n",
    "        the death was observed, False if the event was lost\n",
    "        (right-censored). Defaults all True if event_observed==None\n",
    "  timeline: set the index of the survival curve to this postively increasing array.\n",
    "  label: a string to name the column of the estimate.\n",
    "  alpha: the alpha value in the confidence intervals.\n",
    "         Overrides the initializing alpha for this call to fit only.\n",
    "\n",
    "Returns:\n",
    "  self, with new properties like 'survival_function_'\n",
    "\"\"\" "
   ]
  },
  {
   "cell_type": "code",
   "execution_count": 7,
   "metadata": {
    "collapsed": false
   },
   "outputs": [
    {
     "data": {
      "text/plain": [
       "<lifelines.KaplanMeierFitter: fitted with 1808 observations, 340 censored>"
      ]
     },
     "execution_count": 7,
     "metadata": {},
     "output_type": "execute_result"
    }
   ],
   "source": [
    "T = data[\"duration\"]\n",
    "C = data[\"observed\"]\n",
    "kmf.fit(T, event_observed=C)"
   ]
  },
  {
   "cell_type": "code",
   "execution_count": 8,
   "metadata": {
    "collapsed": false
   },
   "outputs": [
    {
     "data": {
      "image/png": "[encoded data removed]",
      "text/plain": [
       "<matplotlib.figure.Figure at 0x11489ba90>"
      ]
     },
     "metadata": {},
     "output_type": "display_data"
    }
   ],
   "source": [
    "kmf.survival_function_.plot()\n",
    "plt.title('Survival function of political regimes');"
   ]
  },
  {
   "cell_type": "code",
   "execution_count": 9,
   "metadata": {
    "collapsed": false
   },
   "outputs": [
    {
     "data": {
      "text/plain": [
       "<matplotlib.axes._subplots.AxesSubplot at 0x117271be0>"
      ]
     },
     "execution_count": 9,
     "metadata": {},
     "output_type": "execute_result"
    },
    {
     "data": {
      "image/png": "[encoded data removed]",
      "text/plain": [
       "<matplotlib.figure.Figure at 0x11725ccf8>"
      ]
     },
     "metadata": {},
     "output_type": "display_data"
    }
   ],
   "source": [
    "kmf.plot()"
   ]
  },
  {
   "cell_type": "code",
   "execution_count": 10,
   "metadata": {
    "collapsed": false
   },
   "outputs": [
    {
     "data": {
      "text/plain": [
       "4.0"
      ]
     },
     "execution_count": 10,
     "metadata": {},
     "output_type": "execute_result"
    }
   ],
   "source": [
    "kmf.median_\n",
    "\n",
    "## A leader is elected there is a 50% chance he or she will be gone in 3 years."
   ]
  },
  {
   "cell_type": "code",
   "execution_count": 12,
   "metadata": {
    "collapsed": false
   },
   "outputs": [
    {
     "data": {
      "image/png": "[encoded data removed]",
      "text/plain": [
       "<matplotlib.figure.Figure at 0x1172985f8>"
      ]
     },
     "metadata": {},
     "output_type": "display_data"
    }
   ],
   "source": [
    "ax = plt.subplot(111)\n",
    "\n",
    "dem = (data[\"democracy\"] == \"Democracy\")\n",
    "kmf.fit(T[dem], event_observed=C[dem], label=\"Democratic Regimes\")\n",
    "kmf.plot(ax=ax, ci_force_lines=True)\n",
    "kmf.fit(T[~dem], event_observed=C[~dem], label=\"Non-democratic Regimes\")\n",
    "kmf.plot(ax=ax, ci_force_lines=True)\n",
    "\n",
    "## ci_force_lines : force the confidence intervals to be line plots\n",
    "\n",
    "plt.ylim(0,1);\n",
    "plt.title(\"Lifespans of different global regimes\");"
   ]
  },
  {
   "cell_type": "markdown",
   "metadata": {
    "collapsed": true
   },
   "source": [
    "Democratic regimes is shorter terms than Non-democratic regimes."
   ]
  }
 ],
 "metadata": {
  "anaconda-cloud": {},
  "kernelspec": {
   "display_name": "Python [Root]",
   "language": "python",
   "name": "Python [Root]"
  },
  "language_info": {
   "codemirror_mode": {
    "name": "ipython",
    "version": 3
   },
   "file_extension": ".py",
   "mimetype": "text/x-python",
   "name": "python",
   "nbconvert_exporter": "python",
   "pygments_lexer": "ipython3",
   "version": "3.5.2"
  }
 },
 "nbformat": 4,
 "nbformat_minor": 0
}
