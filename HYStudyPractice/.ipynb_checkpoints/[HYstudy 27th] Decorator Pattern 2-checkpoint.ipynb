{
 "cells": [
  {
   "cell_type": "code",
   "execution_count": 1,
   "metadata": {
    "collapsed": true
   },
   "outputs": [],
   "source": [
    "def statically_typed(*types, return_type=None):\n",
    "    def decorator(function):\n",
    "        @functools.wraps(function)\n",
    "        def wrapper(*arg, **kwargs):\n",
    "            if len(args) > len(types): # check : # of arguments\n",
    "                raise ValueError(\"Too many arguments\")\n",
    "            elif len(args) < len(types):\n",
    "                raise ValueError(\"Too few arguments\")\n",
    "            \n",
    "            for i, (arg, type_) in enumerate(zip(args, types)): # check : type of arguments\n",
    "                if not isinstance(arg, type_):\n",
    "                    raise ValueError(\"argument {} must be of type {}\".format(i, type_.__name__))\n",
    "            result = function(*args, **kwargs)\n",
    "            \n",
    "            if (return_type is not None and\n",
    "               not isinstance(result, return_type)):\n",
    "                raise ValueError(\"return value must be of type {}\".format(return_type.__name))\n",
    "            return result\n",
    "        return wrapper\n",
    "    return decorator"
   ]
  }
 ],
 "metadata": {
  "kernelspec": {
   "display_name": "Python [Root]",
   "language": "python",
   "name": "Python [Root]"
  },
  "language_info": {
   "codemirror_mode": {
    "name": "ipython",
    "version": 3
   },
   "file_extension": ".py",
   "mimetype": "text/x-python",
   "name": "python",
   "nbconvert_exporter": "python",
   "pygments_lexer": "ipython3",
   "version": "3.5.3"
  }
 },
 "nbformat": 4,
 "nbformat_minor": 2
}
